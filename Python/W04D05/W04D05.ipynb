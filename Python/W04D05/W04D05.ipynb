{
 "cells": [
  {
   "cell_type": "code",
   "execution_count": null,
   "metadata": {},
   "outputs": [],
   "source": [
    "2 most impo things about keys of dict and set:\n",
    "    1) keys are unique\n",
    "    2) keys are immutable"
   ]
  },
  {
   "cell_type": "code",
   "execution_count": null,
   "metadata": {},
   "outputs": [],
   "source": [
    "# pass, break and continue?\n",
    "\n",
    "pass=placeholder\n",
    "break: break terminates the loop"
   ]
  },
  {
   "cell_type": "code",
   "execution_count": 4,
   "metadata": {},
   "outputs": [],
   "source": [
    "# while True:\n",
    "#     print('Can this thing ever stop??')"
   ]
  },
  {
   "cell_type": "code",
   "execution_count": 2,
   "metadata": {},
   "outputs": [],
   "source": [
    "while False:\n",
    "    print('Does this ever run?')"
   ]
  },
  {
   "cell_type": "code",
   "execution_count": null,
   "metadata": {},
   "outputs": [],
   "source": [
    "What are the different ways by which we can generate Booleans?\n",
    "\n",
    "-> Comparison Operators can generate booleans\n",
    "-> Logical Operators\n",
    "-> membership operators and identity operators\n",
    "-> [], {}, None, '' => False Equivalents\n",
    "-> {'python':3,'java':4}, [1,2,3] => True Equivalents."
   ]
  },
  {
   "cell_type": "code",
   "execution_count": 10,
   "metadata": {},
   "outputs": [
    {
     "name": "stdout",
     "output_type": "stream",
     "text": [
      "12\n",
      "Are you happy, type 1, if not type 0\n",
      "23\n",
      "Are you happy, type 1, if not type 0\n",
      "34\n",
      "Are you happy, type 1, if not type 0\n",
      "32465364\n",
      "Are you happy, type 1, if not type 0\n",
      "0\n"
     ]
    }
   ],
   "source": [
    "while int(input()):\n",
    "    print('Are you happy, type 1, if not type 0')"
   ]
  },
  {
   "cell_type": "code",
   "execution_count": 13,
   "metadata": {},
   "outputs": [
    {
     "name": "stdout",
     "output_type": "stream",
     "text": [
      "0\n",
      "1\n",
      "2\n",
      "i is  3\n"
     ]
    }
   ],
   "source": [
    "# Comparison Operators\n",
    "i=0\n",
    "\n",
    "while i<3:\n",
    "    print(i)\n",
    "    i = i+1\n",
    "    \n",
    "print('i is ',i) # what is the value of i here?"
   ]
  },
  {
   "cell_type": "code",
   "execution_count": 17,
   "metadata": {},
   "outputs": [
    {
     "name": "stdout",
     "output_type": "stream",
     "text": [
      "1\n",
      "2\n",
      "4\n",
      "5\n",
      "[1, 3, 4, 5]\n"
     ]
    }
   ],
   "source": [
    "# WHAT HAPPENS WHEN YOU DELETE A ELEMENT FROM THE LIST YOU ARE LOOPING OVER:\n",
    "\n",
    "test_list = [1,2,3,4,5]\n",
    "\n",
    "for i in test_list:\n",
    "    print(i)\n",
    "    if i==2:\n",
    "        test_list.remove(i)\n",
    "    \n",
    "print(test_list)"
   ]
  },
  {
   "cell_type": "code",
   "execution_count": null,
   "metadata": {},
   "outputs": [],
   "source": [
    "NEVER REMOVE ELEMENT FROM THE SAME LIST IN WHICH WE ARE ITERATING."
   ]
  },
  {
   "cell_type": "code",
   "execution_count": null,
   "metadata": {},
   "outputs": [],
   "source": [
    "HOW DO WE DO THAT THAM?\n",
    "\n",
    "-> create a empty one and insert which are required.\n",
    "=> why bad idea? because sometimes we have the constrain of updating the same object.\n",
    "\n",
    "-> create a deep copy?"
   ]
  },
  {
   "cell_type": "code",
   "execution_count": 21,
   "metadata": {},
   "outputs": [
    {
     "name": "stdout",
     "output_type": "stream",
     "text": [
      "1\n",
      "2\n",
      "3\n",
      "4\n",
      "5\n",
      "[1, 3, 4, 5]\n",
      "[1, 2, 3, 4, 5]\n",
      "[1, 3, 4, 5]\n"
     ]
    }
   ],
   "source": [
    "import copy\n",
    "\n",
    "test_list = [1,2,3,4,5]\n",
    "\n",
    "test_list_duplicate = copy.deepcopy(test_list)\n",
    "\n",
    "for i in test_list:\n",
    "    print(i)\n",
    "    if i==2:\n",
    "        test_list_duplicate.remove(i)\n",
    "        \n",
    "print(test_list_duplicate)\n",
    "print(test_list)\n",
    "        \n",
    "test_list = test_list_duplicate\n",
    "\n",
    "print(test_list)"
   ]
  },
  {
   "cell_type": "code",
   "execution_count": null,
   "metadata": {},
   "outputs": [],
   "source": [
    "What are parameters in functions?\n",
    "\n",
    "Arguments are not parameters."
   ]
  },
  {
   "cell_type": "code",
   "execution_count": 22,
   "metadata": {},
   "outputs": [
    {
     "name": "stdout",
     "output_type": "stream",
     "text": [
      "3\n"
     ]
    }
   ],
   "source": [
    "def summation(a,b):\n",
    "    print(a+b)\n",
    "    \n",
    "summation(1,2)\n",
    "\n",
    "Arguments: These are the real values passed while calling the fun.\n",
    "Parameters: These are the names of variables which will take those arguments.\n",
    "    \n",
    "1 and 2 are Arguments.\n",
    "a and b are Parameters."
   ]
  },
  {
   "cell_type": "markdown",
   "metadata": {},
   "source": [
    "## PARAMETER PASSING TECHNIQUES"
   ]
  },
  {
   "cell_type": "markdown",
   "metadata": {},
   "source": [
    "### DEFAULT"
   ]
  },
  {
   "cell_type": "code",
   "execution_count": 23,
   "metadata": {},
   "outputs": [
    {
     "name": "stdout",
     "output_type": "stream",
     "text": [
      "3\n"
     ]
    }
   ],
   "source": [
    "def summation(a,b=23):\n",
    "    print(a+b)\n",
    "    \n",
    "summation(1,2)"
   ]
  },
  {
   "cell_type": "code",
   "execution_count": 24,
   "metadata": {},
   "outputs": [
    {
     "name": "stdout",
     "output_type": "stream",
     "text": [
      "24\n"
     ]
    }
   ],
   "source": [
    "summation(1)"
   ]
  },
  {
   "cell_type": "code",
   "execution_count": 25,
   "metadata": {},
   "outputs": [],
   "source": [
    "# the default will be taken if that value is not passed."
   ]
  },
  {
   "cell_type": "code",
   "execution_count": 28,
   "metadata": {},
   "outputs": [
    {
     "name": "stdout",
     "output_type": "stream",
     "text": [
      "arun kumar present\n",
      "jemish absent\n",
      "rahul tomar present\n",
      "bhavya absent\n",
      "humanshu present\n",
      "dubeyji absent\n"
     ]
    }
   ],
   "source": [
    "list_of_students = ['arun kumar','jemish','rahul tomar','bhavya','humanshu','dubeyji']\n",
    "\n",
    "present_today = []\n",
    "absent_today = []\n",
    "\n",
    "def rollcall(name,attendance='Absent'):\n",
    "    if attendance == 'Present':\n",
    "        present_today.append(name)\n",
    "    else:\n",
    "        absent_today.append(name)\n",
    "\n",
    "for i in range(len(list_of_students)):\n",
    "    if i%2 == 0:\n",
    "        print(list_of_students[i],'present')\n",
    "        rollcall(list_of_students[i],'Present')\n",
    "    else:\n",
    "        print(list_of_students[i],'absent')\n",
    "        rollcall(list_of_students[i])"
   ]
  },
  {
   "cell_type": "code",
   "execution_count": 29,
   "metadata": {},
   "outputs": [
    {
     "name": "stdout",
     "output_type": "stream",
     "text": [
      "['arun kumar', 'rahul tomar', 'humanshu']\n"
     ]
    }
   ],
   "source": [
    "print(present_today)"
   ]
  },
  {
   "cell_type": "code",
   "execution_count": 30,
   "metadata": {},
   "outputs": [
    {
     "data": {
      "text/plain": [
       "['jemish', 'bhavya', 'dubeyji']"
      ]
     },
     "execution_count": 30,
     "metadata": {},
     "output_type": "execute_result"
    }
   ],
   "source": [
    "absent_today"
   ]
  },
  {
   "cell_type": "markdown",
   "metadata": {},
   "source": [
    "### NAMED ARGUMENTS"
   ]
  },
  {
   "cell_type": "code",
   "execution_count": 31,
   "metadata": {},
   "outputs": [
    {
     "name": "stdout",
     "output_type": "stream",
     "text": [
      "Rohan Rathore is studying at MIT  this person took Computer Science\n"
     ]
    }
   ],
   "source": [
    "### MAGIC HAPPENING WHEN WE ARE CALLING THE FUN.\n",
    "\n",
    "def college_fun(name,college,stream):\n",
    "    print(name,'is studying at',college,' this person took',stream)\n",
    "    \n",
    "name_of_person = 'Rohan Rathore'\n",
    "\n",
    "college_of_person = 'MIT'\n",
    "\n",
    "stream_of_person = 'Computer Science'\n",
    "\n",
    "college_fun(college = college_of_person, name = name_of_person, stream = stream_of_person)"
   ]
  },
  {
   "cell_type": "code",
   "execution_count": 32,
   "metadata": {},
   "outputs": [
    {
     "name": "stdout",
     "output_type": "stream",
     "text": [
      "Manish is studying at MIT (maharstra vala)  this person took BioMechanics\n"
     ]
    }
   ],
   "source": [
    "college_fun(stream='BioMechanics',name='Manish',college='MIT (maharstra vala)')"
   ]
  },
  {
   "cell_type": "markdown",
   "metadata": {},
   "source": [
    "### VARIABLE ARGUMENTS"
   ]
  },
  {
   "cell_type": "code",
   "execution_count": 33,
   "metadata": {},
   "outputs": [],
   "source": [
    "# Variable Arguments: Any number of arguments can come.\n",
    "\n",
    "# 1) Packing: Pack variable number of arguments into a collection of one."
   ]
  },
  {
   "cell_type": "code",
   "execution_count": 34,
   "metadata": {},
   "outputs": [],
   "source": [
    "## MAGIC HAPPENING WHEN DEFINING THE FUN.\n",
    "\n",
    "def mysum(*tuplecollection):\n",
    "    print(type(tuplecollection))\n",
    "    print(tuplecollection)"
   ]
  },
  {
   "cell_type": "code",
   "execution_count": 35,
   "metadata": {},
   "outputs": [
    {
     "name": "stdout",
     "output_type": "stream",
     "text": [
      "<class 'tuple'>\n",
      "(1, 2, 3, 4, 5, 6, 7, 8, 9, 10, 11)\n"
     ]
    }
   ],
   "source": [
    "mysum(1,2,3,4,5,6,7,8,9,10,11) ## KUNAL KUMAR'S list of tuples."
   ]
  },
  {
   "cell_type": "code",
   "execution_count": 36,
   "metadata": {},
   "outputs": [
    {
     "name": "stdout",
     "output_type": "stream",
     "text": [
      "<class 'tuple'>\n",
      "(1, 2, 3, 4, 5, 6, 7)\n"
     ]
    }
   ],
   "source": [
    "mysum(1,2,3,4,5,6,7)"
   ]
  },
  {
   "cell_type": "code",
   "execution_count": 37,
   "metadata": {},
   "outputs": [
    {
     "name": "stdout",
     "output_type": "stream",
     "text": [
      "<class 'tuple'>\n",
      "(1, 2, 3, 4, 5, 5, 6, 7, 8, 9)\n"
     ]
    }
   ],
   "source": [
    "mysum(1,2,3,4,5,5,6,7,8,9)  ## jaimish stopped it here. I would have died writitng numbers here."
   ]
  },
  {
   "cell_type": "code",
   "execution_count": 38,
   "metadata": {},
   "outputs": [
    {
     "name": "stdout",
     "output_type": "stream",
     "text": [
      "<class 'tuple'>\n",
      "(1,)\n"
     ]
    }
   ],
   "source": [
    "mysum(1)"
   ]
  },
  {
   "cell_type": "code",
   "execution_count": 39,
   "metadata": {},
   "outputs": [
    {
     "name": "stdout",
     "output_type": "stream",
     "text": [
      "<class 'tuple'>\n",
      "(1, 2)\n"
     ]
    }
   ],
   "source": [
    "mysum(1,2)"
   ]
  },
  {
   "cell_type": "code",
   "execution_count": 42,
   "metadata": {},
   "outputs": [],
   "source": [
    "def mysum(*bhavya):\n",
    "    print(type(bhavya))\n",
    "    print(bhavya)\n",
    "    for i in bhavya:\n",
    "        print(i)"
   ]
  },
  {
   "cell_type": "code",
   "execution_count": 43,
   "metadata": {},
   "outputs": [
    {
     "name": "stdout",
     "output_type": "stream",
     "text": [
      "<class 'tuple'>\n",
      "(1, 2, 3)\n",
      "1\n",
      "2\n",
      "3\n"
     ]
    }
   ],
   "source": [
    "mysum(1,2,3)  ## mysum is the name of the fun and () are used to call the mysum function."
   ]
  },
  {
   "cell_type": "code",
   "execution_count": null,
   "metadata": {},
   "outputs": [],
   "source": [
    "(1,2,3)"
   ]
  },
  {
   "cell_type": "code",
   "execution_count": null,
   "metadata": {},
   "outputs": [],
   "source": [
    "2) UNPACKING: unpack a collection into different parameters."
   ]
  },
  {
   "cell_type": "code",
   "execution_count": 47,
   "metadata": {},
   "outputs": [
    {
     "name": "stdout",
     "output_type": "stream",
     "text": [
      "spacex is nice\n",
      "tesla is super nice\n",
      "hyperloop is just WOW!!\n"
     ]
    }
   ],
   "source": [
    "## MAGIC IS HAPPENING WHEN CALLING THE FUNCTION\n",
    "\n",
    "def mydifference(parameter_1,parameter_2,parameter_3):\n",
    "    print(parameter_1,'is nice')\n",
    "    print(parameter_2,'is super nice')\n",
    "    print(parameter_3,'is just WOW!!')\n",
    "    \n",
    "mydifference(*['spacex','tesla','hyperloop'])"
   ]
  },
  {
   "cell_type": "code",
   "execution_count": null,
   "metadata": {},
   "outputs": [],
   "source": [
    "Convention: *args"
   ]
  },
  {
   "cell_type": "code",
   "execution_count": null,
   "metadata": {},
   "outputs": [],
   "source": [
    "is there difference between *args and **kwargs?\n",
    "\n",
    "* is packing arguments into a tuple.\n",
    "\n",
    "** is packing named arguments into a dictionary."
   ]
  },
  {
   "cell_type": "code",
   "execution_count": null,
   "metadata": {},
   "outputs": [],
   "source": [
    "NAMED PACKING\n",
    "\n",
    "WE PACKED ARGUMENTS INTO A COLLECITON OF KEY-VALUE PAIR (WHICH IS DICT RIGHT?)"
   ]
  },
  {
   "cell_type": "code",
   "execution_count": 49,
   "metadata": {},
   "outputs": [
    {
     "name": "stdout",
     "output_type": "stream",
     "text": [
      "{'stream': 'BioMechanics', 'name': 'Manish', 'college': 'MIT (maharstra vala)'}\n",
      "<class 'dict'>\n",
      "Manish is studying at MIT (maharstra vala)  this person took BioMechanics\n"
     ]
    }
   ],
   "source": [
    "## MAGIC HAPPENING WHEN DEFINING THE FUNCTION.\n",
    "\n",
    "def college_fun(**info):\n",
    "    print(info)\n",
    "    print(type(info))\n",
    "    print(info['name'],'is studying at',info['college'],' this person took',info['stream'])\n",
    "    \n",
    "college_fun(stream='BioMechanics',name='Manish',college='MIT (maharstra vala)')"
   ]
  },
  {
   "cell_type": "code",
   "execution_count": 50,
   "metadata": {},
   "outputs": [
    {
     "name": "stdout",
     "output_type": "stream",
     "text": [
      "Jaimish Gujarati is studying at Stanford (nahi wo wala nahi)  this person took Mechatronics\n"
     ]
    }
   ],
   "source": [
    "# NAMED UNPACKING\n",
    "\n",
    "def college_fun(name,college,stream):\n",
    "    print(name,'is studying at',college,' this person took',stream)\n",
    "    \n",
    "    \n",
    "college_fun(**{'name':'Jaimish Gujarati','college':'Stanford (nahi wo wala nahi)','stream':'Mechatronics'})"
   ]
  },
  {
   "cell_type": "code",
   "execution_count": 57,
   "metadata": {},
   "outputs": [
    {
     "name": "stdout",
     "output_type": "stream",
     "text": [
      "Which tshirt should I wear out of these uke,meroUno\n",
      "Lets wear the first short from these nike,ABIBAS,PAMA\n",
      " Afcurs lets have the MASK which I kept along with the most imp thing POUND,DOLLARS$$$$$$$$$$ RUPEESSS\n"
     ]
    }
   ],
   "source": [
    "# I kept different Polythenes with cloths inside them, and I am unpacking them in GOA.\n",
    "\n",
    "goa_bagPack = {'tshirts':'uke,meroUno','shorts':'nike,ABIBAS,PAMA','money':'POUND,DOLLARS$$$$$$$$$$ RUPEESSS'}\n",
    "\n",
    "\n",
    "def ingoa(tshirts,shorts,money):\n",
    "    print('Which tshirt should I wear out of these',tshirts)\n",
    "    print('Lets wear the first short from these',shorts)\n",
    "    print(' Afcurs lets have the MASK which I kept along with the most imp thing',money)\n",
    "    \n",
    "ingoa(**goa_bagPack)"
   ]
  },
  {
   "cell_type": "code",
   "execution_count": null,
   "metadata": {},
   "outputs": [],
   "source": [
    "Q1 Use Named Unpacking to solve:\n",
    "    Consider you have some elements which are either even or odd, and you have to pass them and print them inside a function\n",
    "    by understanding if it is even or odd by looking at the name of the parameter."
   ]
  },
  {
   "cell_type": "code",
   "execution_count": 61,
   "metadata": {},
   "outputs": [
    {
     "name": "stdout",
     "output_type": "stream",
     "text": [
      "a is odd\n",
      "n is even\n",
      "r is odd\n"
     ]
    }
   ],
   "source": [
    "ABHISHEK TIWARI'S SOLN\n",
    "\n",
    "def unpack(ele1):\n",
    "    for i in ele1:\n",
    "        if ele1[i]%2==0:\n",
    "            print(i, 'is even')\n",
    "        else:\n",
    "            print(i, 'is odd')\n",
    "dic = {'a':3, 'n':4,'r':7}\n",
    "unpack(dic)"
   ]
  },
  {
   "cell_type": "code",
   "execution_count": 62,
   "metadata": {},
   "outputs": [
    {
     "name": "stdout",
     "output_type": "stream",
     "text": [
      "2 even\n",
      "3 odd\n",
      "4 even\n",
      "15 odd\n",
      "5 odd\n"
     ]
    }
   ],
   "source": [
    "Praneeth Kumar's SOLN (NOT A NAMED ARGUMENT BUT STILL NICE!!)\n",
    "\n",
    "def funs(*abba):\n",
    "    for i in abba:\n",
    "        print(str(i)+\" even\" if i%2==0 else str(i)+\" odd\")\n",
    "funs(2,3,4,15,5)"
   ]
  },
  {
   "cell_type": "code",
   "execution_count": 63,
   "metadata": {},
   "outputs": [
    {
     "name": "stdout",
     "output_type": "stream",
     "text": [
      "Odd\n"
     ]
    }
   ],
   "source": [
    "KUNAL KUMAR'S SOLN\n",
    "\n",
    "def check_even_odd(**check):\n",
    "    if check['isEven']%2==0:\n",
    "        print('even')\n",
    "    else:\n",
    "        print('Odd')\n",
    "check_even_odd(isEven=3)"
   ]
  },
  {
   "cell_type": "code",
   "execution_count": 64,
   "metadata": {},
   "outputs": [
    {
     "name": "stdout",
     "output_type": "stream",
     "text": [
      "([2, 4, 6, 8, 10],)\n",
      "([1, 3, 5, 7, 9],)\n"
     ]
    }
   ],
   "source": [
    "Hrishabh Dubey'S SOLN (NOT A NAMED ONE BUT IN TIME.)\n",
    "\n",
    "l=[1,2,3,4,5,6,7,8,9,10]\n",
    "l1=[]\n",
    "l2=[]\n",
    "for i in l:\n",
    "    if i%2==0:\n",
    "        l1.append(i)\n",
    "    else:\n",
    "        l2.append(i)\n",
    "def odd_count(*odd):\n",
    "    print(odd)\n",
    "def even_count(*even):\n",
    "    print(even)\n",
    "odd_count(l1)\n",
    "even_count(l2)"
   ]
  },
  {
   "cell_type": "code",
   "execution_count": 66,
   "metadata": {},
   "outputs": [
    {
     "name": "stdout",
     "output_type": "stream",
     "text": [
      "23 is odd, gaadi nahi nikalni thi aaj\n",
      "85 is odd, gaadi nahi nikalni thi aaj\n",
      "94 is even\n",
      "6 is even\n",
      "5 is odd, gaadi nahi nikalni thi aaj\n",
      "4 is even\n"
     ]
    }
   ],
   "source": [
    "# From SIDDHARTHA DEB to Me:  (Direct Message) 09:32 PM\n",
    "\n",
    "def delhi_rule(*element):\n",
    "    for i in element:\n",
    "        if i%2 == 0:\n",
    "            print(i,'is even')\n",
    "        else: print(i, 'is odd, gaadi nahi nikalni thi aaj')\n",
    "            \n",
    "delhi_rule(23,85,94,6,5,4)"
   ]
  },
  {
   "cell_type": "code",
   "execution_count": 68,
   "metadata": {},
   "outputs": [
    {
     "name": "stdout",
     "output_type": "stream",
     "text": [
      "1 is odd\n",
      "2 is even\n",
      "3 is odd\n",
      "4 is even\n",
      "5 is odd\n",
      "6 is even\n",
      "7 is odd\n",
      "8 is even\n",
      "9 is odd\n"
     ]
    }
   ],
   "source": [
    "# From Jitendra Prasad to Me:  (Direct Message) 09:33 PM\n",
    "\n",
    "def even_odd(*info):\n",
    "    for i in info:\n",
    "        if i%2==0:\n",
    "            print(i,'is even')\n",
    "        else:\n",
    "            print(i,'is odd')\n",
    "even_odd(1,2,3,4,5,6,7,8,9)"
   ]
  }
 ],
 "metadata": {
  "kernelspec": {
   "display_name": "Python 3",
   "language": "python",
   "name": "python3"
  },
  "language_info": {
   "codemirror_mode": {
    "name": "ipython",
    "version": 3
   },
   "file_extension": ".py",
   "mimetype": "text/x-python",
   "name": "python",
   "nbconvert_exporter": "python",
   "pygments_lexer": "ipython3",
   "version": "3.8.3"
  }
 },
 "nbformat": 4,
 "nbformat_minor": 4
}
