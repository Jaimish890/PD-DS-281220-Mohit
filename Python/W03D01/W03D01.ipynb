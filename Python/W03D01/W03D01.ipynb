{
 "cells": [
  {
   "cell_type": "code",
   "execution_count": null,
   "metadata": {},
   "outputs": [],
   "source": [
    "list1 = [12,23.45,-56.7,-52]\n",
    "\n",
    "Q Find out the sum of these numbers without using any builtin function.\n",
    "\n",
    "Hint: Use a for loop to go through each number."
   ]
  },
  {
   "cell_type": "code",
   "execution_count": 3,
   "metadata": {},
   "outputs": [
    {
     "name": "stdout",
     "output_type": "stream",
     "text": [
      "-73.25\n"
     ]
    }
   ],
   "source": [
    "list1 = [12,23.45,-56.7,-52]\n",
    "\n",
    "sum_of_numbers = 0\n",
    "for no in list1:\n",
    "    sum_of_numbers += no\n",
    "    \n",
    "print(sum_of_numbers)"
   ]
  },
  {
   "cell_type": "code",
   "execution_count": 4,
   "metadata": {},
   "outputs": [
    {
     "data": {
      "text/plain": [
       "-73.25"
      ]
     },
     "execution_count": 4,
     "metadata": {},
     "output_type": "execute_result"
    }
   ],
   "source": [
    "sum(list1) ## builtin in function"
   ]
  },
  {
   "cell_type": "code",
   "execution_count": null,
   "metadata": {},
   "outputs": [],
   "source": [
    "Q Find out the highest number without using any builtin function.\n",
    "\n",
    "Hint: use comparison operator and for loop"
   ]
  },
  {
   "cell_type": "code",
   "execution_count": 5,
   "metadata": {},
   "outputs": [
    {
     "name": "stdout",
     "output_type": "stream",
     "text": [
      "-1\n"
     ]
    }
   ],
   "source": [
    "list1 = [-500,-1,-2,-10]\n",
    "\n",
    "max_number = float('-inf') \n",
    "\n",
    "for no in list1:\n",
    "    if max_number < no:\n",
    "        max_number = no\n",
    "\n",
    "print(max_number)"
   ]
  },
  {
   "cell_type": "code",
   "execution_count": 7,
   "metadata": {},
   "outputs": [
    {
     "name": "stdout",
     "output_type": "stream",
     "text": [
      "0  <  1\n",
      "1  <  10\n",
      "10  <  3\n",
      "10  <  4\n",
      "10  <  5\n",
      "10\n"
     ]
    }
   ],
   "source": [
    "list1 = [1,10,3,4,5]\n",
    "\n",
    "max_number = 0 \n",
    "\n",
    "for no in list1:\n",
    "    print(max_number,' < ',no)\n",
    "    if max_number < no:\n",
    "        max_number = no\n",
    "\n",
    "print(max_number)"
   ]
  },
  {
   "cell_type": "code",
   "execution_count": null,
   "metadata": {},
   "outputs": [],
   "source": [
    "pass continue and break"
   ]
  },
  {
   "cell_type": "code",
   "execution_count": null,
   "metadata": {},
   "outputs": [],
   "source": [
    "pass is a keyword which used as an placeholder for future code.\n",
    "\n",
    "Empty code is not allowed at certain places, so we have to keep pass there\n",
    "to not get an error."
   ]
  },
  {
   "cell_type": "code",
   "execution_count": 11,
   "metadata": {},
   "outputs": [
    {
     "name": "stdout",
     "output_type": "stream",
     "text": [
      "1\n",
      "2\n",
      "3\n",
      "hii\n",
      "hii\n",
      "56\n"
     ]
    }
   ],
   "source": [
    "list1 = [1,2,3,-50,-100,56]\n",
    "\n",
    "for i in list1:\n",
    "    if i>0:\n",
    "        print(i)\n",
    "    else:\n",
    "        pass\n",
    "        print('hii')"
   ]
  },
  {
   "cell_type": "code",
   "execution_count": 12,
   "metadata": {},
   "outputs": [
    {
     "name": "stdout",
     "output_type": "stream",
     "text": [
      "1\n",
      "2\n",
      "3\n",
      "56\n"
     ]
    }
   ],
   "source": [
    "list1 = [1,2,3,-50,-100,56]\n",
    "\n",
    "for i in list1:\n",
    "    if i>0:\n",
    "        print(i)\n",
    "    else:\n",
    "        continue\n",
    "        print('hii')"
   ]
  },
  {
   "cell_type": "code",
   "execution_count": null,
   "metadata": {},
   "outputs": [],
   "source": [
    "break"
   ]
  },
  {
   "cell_type": "code",
   "execution_count": 13,
   "metadata": {},
   "outputs": [
    {
     "name": "stdout",
     "output_type": "stream",
     "text": [
      "1\n",
      "2\n",
      "3\n"
     ]
    }
   ],
   "source": [
    "list1 = [1,2,3,-50,-100,56]\n",
    "\n",
    "for i in list1:\n",
    "    if i>0:\n",
    "        print(i)\n",
    "    else:\n",
    "        break\n",
    "        print('hii')"
   ]
  },
  {
   "cell_type": "code",
   "execution_count": null,
   "metadata": {},
   "outputs": [],
   "source": [
    "enumerate builtin function"
   ]
  },
  {
   "cell_type": "code",
   "execution_count": 15,
   "metadata": {},
   "outputs": [
    {
     "name": "stdout",
     "output_type": "stream",
     "text": [
      "0 100\n",
      "1 200\n",
      "2 -83\n",
      "3 -50\n",
      "4 -100\n",
      "5 56\n"
     ]
    }
   ],
   "source": [
    "list1 = [100,200,-83,-50,-100,56]\n",
    "\n",
    "for i,j in enumerate(list1):\n",
    "    print(i,j)"
   ]
  },
  {
   "cell_type": "code",
   "execution_count": null,
   "metadata": {},
   "outputs": [],
   "source": [
    "for-else LOOP"
   ]
  },
  {
   "cell_type": "code",
   "execution_count": 17,
   "metadata": {},
   "outputs": [
    {
     "name": "stdout",
     "output_type": "stream",
     "text": [
      "No we did not found the key!!\n"
     ]
    }
   ],
   "source": [
    "# Q1 Find a key in the list.\n",
    "# soln with normal for loop\n",
    "\n",
    "nums = [10,20,30,40,50]\n",
    "key = 1000\n",
    "flag = 0 # assuming we did not find the key.\n",
    "\n",
    "for item in nums:\n",
    "    if item == key:\n",
    "        flag = 1\n",
    "        break\n",
    "        \n",
    "if flag == 1:\n",
    "    print(\"Yes we found the key!\")\n",
    "else:\n",
    "    print(\"No we did not found the key!!\")"
   ]
  },
  {
   "cell_type": "code",
   "execution_count": null,
   "metadata": {},
   "outputs": [],
   "source": [
    "# soln with for-else loop"
   ]
  },
  {
   "cell_type": "code",
   "execution_count": 21,
   "metadata": {},
   "outputs": [
    {
     "name": "stdout",
     "output_type": "stream",
     "text": [
      "we did not found the key!!\n"
     ]
    }
   ],
   "source": [
    "nums = [10,20,30,40,50]\n",
    "key = 1000\n",
    "\n",
    "for item in nums:\n",
    "    if item == key:\n",
    "        print(\"we found the key!!\")\n",
    "        break\n",
    "else:\n",
    "    print(\"we did not found the key!!\")"
   ]
  },
  {
   "cell_type": "code",
   "execution_count": null,
   "metadata": {},
   "outputs": [],
   "source": [
    "else part runs only when the for loop end without any interruption in between (for example without any break.)"
   ]
  },
  {
   "cell_type": "code",
   "execution_count": 24,
   "metadata": {},
   "outputs": [
    {
     "name": "stdout",
     "output_type": "stream",
     "text": [
      "kiwi\n",
      "apple\n",
      "mango\n",
      "we did not found the key!!\n"
     ]
    }
   ],
   "source": [
    "fruits = ['kiwi','apple','mango']\n",
    "\n",
    "for item in fruits:\n",
    "    print(item)\n",
    "else:\n",
    "    print(\"we did not found the key!!\")"
   ]
  },
  {
   "cell_type": "code",
   "execution_count": 25,
   "metadata": {},
   "outputs": [
    {
     "name": "stdout",
     "output_type": "stream",
     "text": [
      "kiwi\n"
     ]
    }
   ],
   "source": [
    "fruits = ['kiwi','apple','mango']\n",
    "\n",
    "for item in fruits:\n",
    "    print(item)\n",
    "    break\n",
    "else:\n",
    "    print(\"we did not found the key!!\")"
   ]
  },
  {
   "cell_type": "code",
   "execution_count": null,
   "metadata": {},
   "outputs": [],
   "source": [
    "How do we take input in python?"
   ]
  },
  {
   "cell_type": "code",
   "execution_count": 26,
   "metadata": {},
   "outputs": [
    {
     "name": "stdout",
     "output_type": "stream",
     "text": [
      "500\n"
     ]
    }
   ],
   "source": [
    "x = input()"
   ]
  },
  {
   "cell_type": "code",
   "execution_count": 27,
   "metadata": {},
   "outputs": [
    {
     "data": {
      "text/plain": [
       "'500'"
      ]
     },
     "execution_count": 27,
     "metadata": {},
     "output_type": "execute_result"
    }
   ],
   "source": [
    "x"
   ]
  },
  {
   "cell_type": "code",
   "execution_count": null,
   "metadata": {},
   "outputs": [],
   "source": [
    "input function by default take value in string format"
   ]
  },
  {
   "cell_type": "code",
   "execution_count": 28,
   "metadata": {},
   "outputs": [
    {
     "data": {
      "text/plain": [
       "str"
      ]
     },
     "execution_count": 28,
     "metadata": {},
     "output_type": "execute_result"
    }
   ],
   "source": [
    "type(x)"
   ]
  },
  {
   "cell_type": "code",
   "execution_count": null,
   "metadata": {},
   "outputs": [],
   "source": [
    "typecasting: converting one datatype into another."
   ]
  },
  {
   "cell_type": "code",
   "execution_count": 29,
   "metadata": {},
   "outputs": [],
   "source": [
    "x_number = int(x)"
   ]
  },
  {
   "cell_type": "code",
   "execution_count": 31,
   "metadata": {},
   "outputs": [
    {
     "name": "stdout",
     "output_type": "stream",
     "text": [
      "<class 'int'>\n"
     ]
    }
   ],
   "source": [
    "print(type(x_number))"
   ]
  },
  {
   "cell_type": "markdown",
   "metadata": {},
   "source": [
    "## Q4) Print multiplication table of 5\n",
    "\n",
    "### Pseudocode:\n",
    "    1)loop from 1 to 10\n",
    "    2)for each item, print * of 5 with it."
   ]
  },
  {
   "cell_type": "code",
   "execution_count": null,
   "metadata": {},
   "outputs": [],
   "source": [
    "2 mins for this Question."
   ]
  },
  {
   "cell_type": "code",
   "execution_count": 32,
   "metadata": {},
   "outputs": [
    {
     "name": "stdout",
     "output_type": "stream",
     "text": [
      "5\n",
      "10\n",
      "15\n",
      "20\n",
      "25\n",
      "30\n",
      "35\n",
      "40\n",
      "45\n",
      "50\n"
     ]
    }
   ],
   "source": [
    "for i in range(1,11):\n",
    "    print(i*5)"
   ]
  },
  {
   "cell_type": "code",
   "execution_count": null,
   "metadata": {},
   "outputs": [],
   "source": [
    "## WHILE LOOP"
   ]
  },
  {
   "cell_type": "code",
   "execution_count": null,
   "metadata": {},
   "outputs": [],
   "source": [
    "while condition: # if condition is true the statements will run, if false the loop will terminate.\n",
    "    statement1\n",
    "    statement2"
   ]
  },
  {
   "cell_type": "code",
   "execution_count": 33,
   "metadata": {},
   "outputs": [
    {
     "name": "stdout",
     "output_type": "stream",
     "text": [
      "5\n",
      "4\n",
      "3\n",
      "2\n",
      "after the loop the value of num is 1\n"
     ]
    }
   ],
   "source": [
    "num = 5\n",
    "\n",
    "while num>1:\n",
    "    print(num)\n",
    "    num = num - 1\n",
    "    \n",
    "print('after the loop the value of num is',num)"
   ]
  },
  {
   "cell_type": "code",
   "execution_count": null,
   "metadata": {},
   "outputs": [],
   "source": [
    "list1 = ['kiwi','apple','dragonfruit','mango','banana']\n",
    "\n",
    "index = 0\n",
    "fruit = list1[index]\n",
    "while fruit!= 'mango':\n",
    "    print(fruit)\n",
    "    index = index + 1\n",
    "    fruit = list1[index]"
   ]
  },
  {
   "cell_type": "code",
   "execution_count": 37,
   "metadata": {},
   "outputs": [
    {
     "name": "stdout",
     "output_type": "stream",
     "text": [
      "kiwi\n"
     ]
    }
   ],
   "source": [
    "# while-else : else part runs only if while loop does not breaks/terminated inappropritaely\n",
    "\n",
    "list1 = ['kiwi','apple','dragonfruit','mango','banana']\n",
    "\n",
    "index = 0\n",
    "fruit = list1[index]\n",
    "while fruit!= 'mango':\n",
    "    print(fruit)\n",
    "    index = index + 1\n",
    "    fruit = list1[index]\n",
    "    break\n",
    "else:\n",
    "    print(\"We are done looking at all the fruits\")"
   ]
  },
  {
   "cell_type": "code",
   "execution_count": null,
   "metadata": {},
   "outputs": [],
   "source": [
    "## NESTED LOOP"
   ]
  },
  {
   "cell_type": "code",
   "execution_count": null,
   "metadata": {},
   "outputs": [],
   "source": [
    "## Q4) Print multiplication table of 5,10,11\n",
    "\n",
    "### Pseudocode:\n",
    "    0)loop through number for which table needs to be written.\n",
    "    1)loop inside the earlier loop from 1 to 10\n",
    "    2)for each item, print * of that number from outer loop with it."
   ]
  },
  {
   "cell_type": "code",
   "execution_count": 35,
   "metadata": {},
   "outputs": [
    {
     "name": "stdout",
     "output_type": "stream",
     "text": [
      "5\n",
      "10\n",
      "15\n",
      "20\n",
      "25\n",
      "30\n",
      "35\n",
      "40\n",
      "45\n",
      "50\n",
      "****************\n",
      "10\n",
      "20\n",
      "30\n",
      "40\n",
      "50\n",
      "60\n",
      "70\n",
      "80\n",
      "90\n",
      "100\n",
      "****************\n",
      "11\n",
      "22\n",
      "33\n",
      "44\n",
      "55\n",
      "66\n",
      "77\n",
      "88\n",
      "99\n",
      "110\n",
      "****************\n"
     ]
    }
   ],
   "source": [
    "multiplication_tables = [5,10,11]\n",
    "\n",
    "for table_of in multiplication_tables:\n",
    "    for i in range(1,11):\n",
    "        print(i*table_of)\n",
    "    print(\"****************\")"
   ]
  },
  {
   "cell_type": "code",
   "execution_count": 38,
   "metadata": {},
   "outputs": [],
   "source": [
    "## STRINGS"
   ]
  },
  {
   "cell_type": "code",
   "execution_count": null,
   "metadata": {},
   "outputs": [],
   "source": [
    "-> Immutable: No methods for add,delete and update\n",
    "-> Ordered: Indexing and slicing"
   ]
  },
  {
   "cell_type": "code",
   "execution_count": 39,
   "metadata": {},
   "outputs": [
    {
     "name": "stdout",
     "output_type": "stream",
     "text": [
      "a\n"
     ]
    }
   ],
   "source": [
    "## Indexing.\n",
    "\n",
    "string1 = 'kunalkumar'\n",
    "print(string1[3])\n",
    "\n",
    "index positions starts from 0."
   ]
  },
  {
   "cell_type": "code",
   "execution_count": 40,
   "metadata": {},
   "outputs": [
    {
     "name": "stdout",
     "output_type": "stream",
     "text": [
      "k\n"
     ]
    }
   ],
   "source": [
    "print(string1[5])"
   ]
  },
  {
   "cell_type": "code",
   "execution_count": null,
   "metadata": {},
   "outputs": [],
   "source": [
    "##\n",
    "\n",
    "Slicing\n",
    "\n",
    "Syntax\n",
    "\n",
    "slicing operator => :\n",
    "\n",
    "NameofString[start:stop]\n",
    "\n",
    "stop value is never reached. (similar to range)\n",
    "from start to stop but not including stop"
   ]
  },
  {
   "cell_type": "code",
   "execution_count": 44,
   "metadata": {},
   "outputs": [
    {
     "name": "stdout",
     "output_type": "stream",
     "text": [
      "kunal\n"
     ]
    }
   ],
   "source": [
    "print(string1[0:5])"
   ]
  },
  {
   "cell_type": "code",
   "execution_count": null,
   "metadata": {},
   "outputs": [],
   "source": [
    "Define a string:\n",
    "    single quotes\n",
    "    double quotes\n",
    "    triple quotes"
   ]
  },
  {
   "cell_type": "code",
   "execution_count": null,
   "metadata": {},
   "outputs": [],
   "source": [
    "Strings are immutable?"
   ]
  },
  {
   "cell_type": "code",
   "execution_count": 46,
   "metadata": {},
   "outputs": [
    {
     "name": "stdout",
     "output_type": "stream",
     "text": [
      "63015200\n",
      "20054528\n",
      "pythonhappy\n"
     ]
    }
   ],
   "source": [
    "string1 = 'python'\n",
    "print(id(string1))\n",
    "\n",
    "string1 = 'python' + 'happy' # another new object is being made.\n",
    "print(id(string1))\n",
    "\n",
    "print(string1)"
   ]
  },
  {
   "cell_type": "code",
   "execution_count": null,
   "metadata": {},
   "outputs": [],
   "source": [
    "stride in slicing"
   ]
  },
  {
   "cell_type": "code",
   "execution_count": 55,
   "metadata": {},
   "outputs": [
    {
     "name": "stdout",
     "output_type": "stream",
     "text": [
      "olle\n"
     ]
    }
   ],
   "source": [
    "string1 = 'helloworld'\n",
    "print(string1[4:0:-1])"
   ]
  },
  {
   "cell_type": "code",
   "execution_count": null,
   "metadata": {},
   "outputs": [],
   "source": [
    "## stride rules\n",
    "\n",
    "# +ve => left to right\n",
    "# -ve => right to left\n",
    "\n",
    "## check the stride:\n",
    "1. if stride not given => 1 (left to right)\n",
    "\n",
    "2. if stride is +ve , check the index left to right\n",
    "\n",
    "3. if stride is -ve, check index should be right ot left."
   ]
  },
  {
   "cell_type": "code",
   "execution_count": 58,
   "metadata": {},
   "outputs": [
    {
     "name": "stdout",
     "output_type": "stream",
     "text": [
      "olleh\n"
     ]
    }
   ],
   "source": [
    "string1 = 'hello'\n",
    "print(string1[::-1])\n",
    "\n",
    "# REVERSING A STRING."
   ]
  },
  {
   "cell_type": "code",
   "execution_count": 59,
   "metadata": {},
   "outputs": [
    {
     "name": "stdout",
     "output_type": "stream",
     "text": [
      "hlo\n"
     ]
    }
   ],
   "source": [
    "string1 = 'hello'\n",
    "print(string1[::2])\n",
    "\n",
    "# REVERSING A STRING."
   ]
  },
  {
   "cell_type": "code",
   "execution_count": 60,
   "metadata": {},
   "outputs": [
    {
     "name": "stdout",
     "output_type": "stream",
     "text": [
      "olh\n"
     ]
    }
   ],
   "source": [
    "string1 = 'hello'\n",
    "print(string1[::-2])\n",
    "\n",
    "# REVERSING A STRING."
   ]
  },
  {
   "cell_type": "code",
   "execution_count": null,
   "metadata": {},
   "outputs": [],
   "source": [
    "HOMEWORK: Questions on LOOP"
   ]
  },
  {
   "cell_type": "markdown",
   "metadata": {},
   "source": [
    "## Q1) How to use slicing to print only OOOO out of \"OAOAOAOA\"?\n",
    "\n",
    "### Intuition: Can we jump to only even index positions?\n",
    "\n",
    "### Pseudocode:No Need, just an builtin function"
   ]
  },
  {
   "cell_type": "code",
   "execution_count": 61,
   "metadata": {},
   "outputs": [
    {
     "name": "stdout",
     "output_type": "stream",
     "text": [
      "OOOO\n"
     ]
    }
   ],
   "source": [
    "string1 = \"OAOAOAOA\"\n",
    "\n",
    "print(string1[::2])"
   ]
  },
  {
   "cell_type": "code",
   "execution_count": null,
   "metadata": {},
   "outputs": [],
   "source": [
    "what if i want to only AAAA ??"
   ]
  },
  {
   "cell_type": "code",
   "execution_count": 62,
   "metadata": {},
   "outputs": [
    {
     "name": "stdout",
     "output_type": "stream",
     "text": [
      "AAAA\n"
     ]
    }
   ],
   "source": [
    "print(string1[1::2])"
   ]
  },
  {
   "cell_type": "code",
   "execution_count": 63,
   "metadata": {},
   "outputs": [
    {
     "name": "stdout",
     "output_type": "stream",
     "text": [
      "97\n"
     ]
    }
   ],
   "source": [
    "# ASCII VALUES\n",
    "\n",
    "var1 = 'a'\n",
    "\n",
    "print(ord(var1))"
   ]
  },
  {
   "cell_type": "code",
   "execution_count": 64,
   "metadata": {},
   "outputs": [
    {
     "name": "stdout",
     "output_type": "stream",
     "text": [
      "65\n"
     ]
    }
   ],
   "source": [
    "var2 = 'A'\n",
    "\n",
    "print(ord(var2))"
   ]
  },
  {
   "cell_type": "code",
   "execution_count": 67,
   "metadata": {},
   "outputs": [
    {
     "name": "stdout",
     "output_type": "stream",
     "text": [
      "122\n"
     ]
    }
   ],
   "source": [
    "print(ord('z'))"
   ]
  },
  {
   "cell_type": "code",
   "execution_count": null,
   "metadata": {},
   "outputs": [],
   "source": [
    "ord tell us the ASCII value of a char."
   ]
  },
  {
   "cell_type": "markdown",
   "metadata": {},
   "source": [
    "## Q2)Check which of the following string contains all the 26 Alphabets\n",
    "##    a)\"the quick brown fox jumps over a lazy dog\"\n",
    "##    b)\"the quick red fox jumps over a lazy dog\"\n",
    "\n",
    "### Intuition:Can we use ASCII values to store in a list the alphabet number present in the string.\n",
    "\n",
    "### Pseudocode:\n",
    "    1)make a list with 0's of size 26\n",
    "    2)loop through the string and calculate ascii value.\n",
    "    2.1) subtract the lowest ascii value to get the alphabet position (Remember 0 indexed)\n",
    "    2.2) replace the 0 with 1 in the list for that alphabet\n",
    "    3) sum the values in the list, it should be 26.\n",
    "    "
   ]
  },
  {
   "cell_type": "code",
   "execution_count": null,
   "metadata": {},
   "outputs": [],
   "source": []
  }
 ],
 "metadata": {
  "kernelspec": {
   "display_name": "Python 3",
   "language": "python",
   "name": "python3"
  },
  "language_info": {
   "codemirror_mode": {
    "name": "ipython",
    "version": 3
   },
   "file_extension": ".py",
   "mimetype": "text/x-python",
   "name": "python",
   "nbconvert_exporter": "python",
   "pygments_lexer": "ipython3",
   "version": "3.8.3"
  }
 },
 "nbformat": 4,
 "nbformat_minor": 4
}
