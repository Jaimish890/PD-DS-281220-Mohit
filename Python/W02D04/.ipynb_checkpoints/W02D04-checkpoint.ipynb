{
 "cells": [
  {
   "cell_type": "code",
   "execution_count": null,
   "metadata": {},
   "outputs": [],
   "source": [
    "Data Types:\n",
    "    str\n",
    "    list\n",
    "    float\n",
    "    tuple\n",
    "    int\n",
    "    dict\n",
    "    None\n",
    "    bool\n",
    "    set"
   ]
  },
  {
   "cell_type": "code",
   "execution_count": null,
   "metadata": {},
   "outputs": [],
   "source": [
    "Immutable: which we can't edit.(Can not be modified.)\n",
    "    \n",
    "Mutation ? X-men ? different strains of coronavirus? mutation in the virus\n",
    "\n",
    "Mutable: Which can be changed."
   ]
  },
  {
   "cell_type": "code",
   "execution_count": null,
   "metadata": {},
   "outputs": [],
   "source": [
    "What are the immutable datatypes?\n",
    "float\n",
    "int\n",
    "bool\n",
    "str\n",
    "tuple"
   ]
  },
  {
   "cell_type": "code",
   "execution_count": null,
   "metadata": {},
   "outputs": [],
   "source": [
    "What are the mutable ones?\n",
    "list\n",
    "dict\n",
    "set"
   ]
  },
  {
   "cell_type": "code",
   "execution_count": null,
   "metadata": {},
   "outputs": [],
   "source": [
    "## Conditional statements"
   ]
  },
  {
   "cell_type": "code",
   "execution_count": 3,
   "metadata": {},
   "outputs": [],
   "source": [
    "# a>5\n",
    "\n",
    "# What is the datatype which should come in the if statement??\n",
    "# => Boolean\n",
    "\n",
    "# What are the different ways of"
   ]
  },
  {
   "cell_type": "code",
   "execution_count": null,
   "metadata": {},
   "outputs": [],
   "source": [
    "## Syntax: how to use(write) a specific thing in a programming language (here python)\n",
    "\n",
    "## Syntax of if statement:\n",
    "\n",
    "if something_which_return_boolean(True/False):\n",
    "<----> statements 1\n",
    "<----> statements 2\n",
    "<----> statements 3"
   ]
  },
  {
   "cell_type": "code",
   "execution_count": 8,
   "metadata": {},
   "outputs": [
    {
     "name": "stdout",
     "output_type": "stream",
     "text": [
      "The boolean equivalent of a is True\n"
     ]
    }
   ],
   "source": [
    "# What are different ways of getting a boolean(True/False)?\n",
    "# bool function returns the equivalent value of an expression in True or False\n",
    "\n",
    "# In python there are few things which automatically gets converted to a boolean, to test which gets converted to \n",
    "# True or False we can take help of bool function.\n",
    "\n",
    "b = 0\n",
    "a = 0\n",
    "\n",
    "print('The boolean equivalent of a is',bool(a==b)) "
   ]
  },
  {
   "cell_type": "code",
   "execution_count": 16,
   "metadata": {},
   "outputs": [
    {
     "name": "stdout",
     "output_type": "stream",
     "text": [
      "The boolean equivalent of a is False\n",
      "The boolean equivalent of b is True\n"
     ]
    }
   ],
   "source": [
    "a = ''\n",
    "\n",
    "b = 'hii'\n",
    "\n",
    "print('The boolean equivalent of a is',bool(a))\n",
    "\n",
    "print('The boolean equivalent of b is',bool(b)) "
   ]
  },
  {
   "cell_type": "code",
   "execution_count": 14,
   "metadata": {},
   "outputs": [
    {
     "name": "stdout",
     "output_type": "stream",
     "text": [
      "The boolean equivalent of a==b is True\n"
     ]
    }
   ],
   "source": [
    "a = 'hii'\n",
    "\n",
    "b = 'hii'\n",
    "\n",
    "print('The boolean equivalent of a==b is',bool(a==b))"
   ]
  },
  {
   "cell_type": "code",
   "execution_count": null,
   "metadata": {},
   "outputs": [],
   "source": [
    "a = []\n",
    "\n",
    "b = ['hii']\n",
    "\n",
    "print('The boolean equivalent of a is',bool(a))\n",
    "\n",
    "print('The boolean equivalent of b is',bool(b)) "
   ]
  },
  {
   "cell_type": "code",
   "execution_count": 21,
   "metadata": {},
   "outputs": [
    {
     "name": "stdout",
     "output_type": "stream",
     "text": [
      "The boolean equivalent of Positive Numbers is True\n",
      "The boolean equivalent of Negative Numbers is True\n",
      "The boolean equivalent of 0 is False\n"
     ]
    }
   ],
   "source": [
    "a = 156\n",
    "print('The boolean equivalent of Positive Numbers is',bool(a))\n",
    "\n",
    "b = -456123\n",
    "print('The boolean equivalent of Negative Numbers is',bool(b))\n",
    "\n",
    "c = 0\n",
    "print('The boolean equivalent of 0 is',bool(c))\n",
    "\n",
    "# Only 0 in numbers is considered as False.\n",
    "# Everything else is True"
   ]
  },
  {
   "cell_type": "code",
   "execution_count": 23,
   "metadata": {},
   "outputs": [
    {
     "name": "stdout",
     "output_type": "stream",
     "text": [
      "The boolean equivalent of None is False\n"
     ]
    }
   ],
   "source": [
    "a = None\n",
    "print('The boolean equivalent of None is',bool(a))"
   ]
  },
  {
   "cell_type": "code",
   "execution_count": 36,
   "metadata": {},
   "outputs": [
    {
     "name": "stdout",
     "output_type": "stream",
     "text": [
      "True is  True\n",
      "123 is  True\n",
      "-1231 is  True\n",
      "45.34 is  True\n",
      "-123.345 is  True\n",
      "['python'] is  True\n",
      "hii is  True\n",
      "{'set'} is  True\n",
      "{'python': 3, 'java': 8} is  True\n",
      "string is  True\n"
     ]
    }
   ],
   "source": [
    "# Everything which seems to be like have some data is considered at True\n",
    "True_equivalents = [True,123,-1231,45.34,-123.345,['python'],('hii'),{'set'},{'python':3,'java':8},'string']\n",
    "for i in True_equivalents:\n",
    "    print(i,'is ',bool(i))"
   ]
  },
  {
   "cell_type": "code",
   "execution_count": 35,
   "metadata": {},
   "outputs": [
    {
     "name": "stdout",
     "output_type": "stream",
     "text": [
      "False is  False\n",
      "0 is  False\n",
      " is  False\n",
      "None is  False\n",
      "[] is  False\n",
      "() is  False\n",
      "{} is  False\n"
     ]
    }
   ],
   "source": [
    "# Everything which seems to be like Empty is considered as False.\n",
    "False_equivalents = [False,0,'',None,[],(),{}]\n",
    "for i in False_equivalents:\n",
    "    print(i,'is ',bool(i))"
   ]
  },
  {
   "cell_type": "code",
   "execution_count": 37,
   "metadata": {},
   "outputs": [],
   "source": [
    "complex_number = complex(2,3)"
   ]
  },
  {
   "cell_type": "code",
   "execution_count": 38,
   "metadata": {},
   "outputs": [
    {
     "name": "stdout",
     "output_type": "stream",
     "text": [
      "(2+3j)\n"
     ]
    }
   ],
   "source": [
    "print(complex_number)"
   ]
  },
  {
   "cell_type": "code",
   "execution_count": null,
   "metadata": {},
   "outputs": [],
   "source": [
    "a = 23"
   ]
  },
  {
   "cell_type": "code",
   "execution_count": 45,
   "metadata": {},
   "outputs": [
    {
     "name": "stdout",
     "output_type": "stream",
     "text": [
      "False\n",
      "True\n"
     ]
    }
   ],
   "source": [
    "# Mannish Question:\n",
    "#     Sir something interesting I came across, if I do print(bool(int())) it\n",
    "#     returns False, but if I do print(bool(int)) it returns True, can you please shed some light on this\n",
    "\n",
    "\n",
    "print(bool(int()))\n",
    "print(bool(int))"
   ]
  },
  {
   "cell_type": "code",
   "execution_count": 46,
   "metadata": {},
   "outputs": [
    {
     "name": "stdout",
     "output_type": "stream",
     "text": [
      "<class 'int'>\n",
      "23\n"
     ]
    }
   ],
   "source": [
    "a = '23'\n",
    "\n",
    "b = int(a)\n",
    "\n",
    "print(type(b))\n",
    "\n",
    "print(b)"
   ]
  },
  {
   "cell_type": "code",
   "execution_count": 47,
   "metadata": {},
   "outputs": [
    {
     "name": "stdout",
     "output_type": "stream",
     "text": [
      "0\n",
      "<class 'int'>\n"
     ]
    }
   ],
   "source": [
    "a = int()\n",
    "\n",
    "print(a)\n",
    "print(type(a))"
   ]
  },
  {
   "cell_type": "code",
   "execution_count": 48,
   "metadata": {},
   "outputs": [
    {
     "name": "stdout",
     "output_type": "stream",
     "text": [
      "<class 'int'>\n",
      "<class 'type'>\n"
     ]
    }
   ],
   "source": [
    "x = int\n",
    "\n",
    "print(x)\n",
    "\n",
    "print(type(x))"
   ]
  },
  {
   "cell_type": "code",
   "execution_count": null,
   "metadata": {},
   "outputs": [],
   "source": [
    "a=8+7j #complex number of this type can be True or False?"
   ]
  },
  {
   "cell_type": "code",
   "execution_count": 50,
   "metadata": {},
   "outputs": [],
   "source": [
    "# help(int)"
   ]
  },
  {
   "cell_type": "code",
   "execution_count": 51,
   "metadata": {},
   "outputs": [
    {
     "name": "stdout",
     "output_type": "stream",
     "text": [
      "string\n",
      "False\n"
     ]
    }
   ],
   "source": [
    "print(bool(print('string')))  # is giving false"
   ]
  },
  {
   "cell_type": "code",
   "execution_count": 52,
   "metadata": {},
   "outputs": [
    {
     "name": "stdout",
     "output_type": "stream",
     "text": [
      "string\n",
      "None\n"
     ]
    }
   ],
   "source": [
    "x = print('string') # Whatever print function is returning , we are storing that value in x\n",
    "\n",
    "print(x)"
   ]
  },
  {
   "cell_type": "code",
   "execution_count": null,
   "metadata": {},
   "outputs": [],
   "source": [
    "## print function prints the value to the output but does not reutrn anything"
   ]
  },
  {
   "cell_type": "code",
   "execution_count": null,
   "metadata": {},
   "outputs": [],
   "source": [
    "why empty string inside a list return True??exp-a=[\"\"]"
   ]
  },
  {
   "cell_type": "code",
   "execution_count": 54,
   "metadata": {},
   "outputs": [
    {
     "data": {
      "text/plain": [
       "True"
      ]
     },
     "execution_count": 54,
     "metadata": {},
     "output_type": "execute_result"
    }
   ],
   "source": [
    "x = []\n",
    "y = ['']\n",
    "bool(y)"
   ]
  },
  {
   "cell_type": "code",
   "execution_count": null,
   "metadata": {},
   "outputs": [],
   "source": [
    "### LOOPS"
   ]
  },
  {
   "cell_type": "code",
   "execution_count": 56,
   "metadata": {},
   "outputs": [],
   "source": [
    "BUS = ['Covid+','Covid+','Covid-','Covid+','Covid-','Covid+']\n",
    "\n",
    "# How to count how many are covid + in this bus ?\n",
    "\n",
    "# We will need to traverse this list Bus to get this."
   ]
  },
  {
   "cell_type": "code",
   "execution_count": 57,
   "metadata": {},
   "outputs": [
    {
     "name": "stdout",
     "output_type": "stream",
     "text": [
      "Covid+\n",
      "Covid+\n",
      "Covid-\n",
      "Covid+\n",
      "Covid-\n",
      "Covid+\n"
     ]
    }
   ],
   "source": [
    "for report in BUS:\n",
    "    print(report)"
   ]
  },
  {
   "cell_type": "code",
   "execution_count": null,
   "metadata": {},
   "outputs": [],
   "source": [
    "Syntax of For loop\n",
    "\n",
    "for var in Iterable:\n",
    "<---->statement 1\n",
    "<---->statement 2\n",
    "<---->statement 3\n",
    "<---->statement x"
   ]
  },
  {
   "cell_type": "code",
   "execution_count": null,
   "metadata": {},
   "outputs": [],
   "source": [
    "Q1 Make a list of numbers from 1 to 5 and print their value using for loop\n",
    "\n",
    "5 mins."
   ]
  },
  {
   "cell_type": "code",
   "execution_count": null,
   "metadata": {},
   "outputs": [],
   "source": [
    "Q2 Print yes if x is divisible by 3 and 5 both.\n",
    "\n",
    "Hints:\n",
    "    Since 4 is divisible by 2 , it gives a 0 reminder\n",
    "    \n",
    "Pseudocode:\n",
    "    1) Check if remainder obtained when you divide by 3 is 0\n",
    "    2) Check if remainder obtained when you divide by 5 is 0\n",
    "    3) Only if both are True, print (\"yes\")\n",
    "\n",
    "5 mins"
   ]
  },
  {
   "cell_type": "code",
   "execution_count": null,
   "metadata": {},
   "outputs": [],
   "source": [
    "Q3 Make a list of numbers from 1 to 10 and loop over them and print ('yes') if it is a even number\n",
    "and ('no') if it is odd.\n",
    "\n",
    "5 mins."
   ]
  },
  {
   "cell_type": "code",
   "execution_count": 58,
   "metadata": {},
   "outputs": [
    {
     "name": "stdout",
     "output_type": "stream",
     "text": [
      "1\n",
      "2\n",
      "3\n",
      "4\n",
      "5\n"
     ]
    }
   ],
   "source": [
    "# A1)\n",
    "list_of_numbers = [1,2,3,4,5]\n",
    "\n",
    "for number in list_of_numbers:\n",
    "    print(number)"
   ]
  },
  {
   "cell_type": "code",
   "execution_count": 70,
   "metadata": {},
   "outputs": [
    {
     "name": "stdout",
     "output_type": "stream",
     "text": [
      "30 is divisible by 3 and 5 both\n"
     ]
    }
   ],
   "source": [
    "# A2\n",
    "\n",
    "x = 30\n",
    "\n",
    "if x%3 == 0 and x%5 == 0:\n",
    "    print(x, \"is divisible by 3 and 5 both\")"
   ]
  },
  {
   "cell_type": "code",
   "execution_count": 64,
   "metadata": {},
   "outputs": [
    {
     "data": {
      "text/plain": [
       "True"
      ]
     },
     "execution_count": 64,
     "metadata": {},
     "output_type": "execute_result"
    }
   ],
   "source": [
    "0 == 0"
   ]
  },
  {
   "cell_type": "code",
   "execution_count": 65,
   "metadata": {},
   "outputs": [
    {
     "data": {
      "text/plain": [
       "True"
      ]
     },
     "execution_count": 65,
     "metadata": {},
     "output_type": "execute_result"
    }
   ],
   "source": [
    "True and True"
   ]
  },
  {
   "cell_type": "code",
   "execution_count": 66,
   "metadata": {},
   "outputs": [
    {
     "data": {
      "text/plain": [
       "False"
      ]
     },
     "execution_count": 66,
     "metadata": {},
     "output_type": "execute_result"
    }
   ],
   "source": [
    "False and True"
   ]
  },
  {
   "cell_type": "code",
   "execution_count": 67,
   "metadata": {},
   "outputs": [
    {
     "data": {
      "text/plain": [
       "False"
      ]
     },
     "execution_count": 67,
     "metadata": {},
     "output_type": "execute_result"
    }
   ],
   "source": [
    "True and False"
   ]
  },
  {
   "cell_type": "code",
   "execution_count": null,
   "metadata": {},
   "outputs": [],
   "source": [
    "## Even numbers are those which are divisible by 2\n",
    "## Odd numbers are those which are NOT divisible by 2"
   ]
  },
  {
   "cell_type": "code",
   "execution_count": 72,
   "metadata": {},
   "outputs": [
    {
     "name": "stdout",
     "output_type": "stream",
     "text": [
      "1 NO\n",
      "2 YES\n",
      "3 NO\n",
      "4 YES\n",
      "5 NO\n",
      "6 YES\n",
      "7 NO\n",
      "8 YES\n",
      "9 NO\n",
      "10 YES\n"
     ]
    }
   ],
   "source": [
    "list_numbers = [1,2,3,4,5,6,7,8,9,10]\n",
    "\n",
    "for no in list_numbers:\n",
    "    if no%2 == 0:\n",
    "        print(no,'YES')\n",
    "    else:\n",
    "        print(no,'NO')"
   ]
  },
  {
   "cell_type": "code",
   "execution_count": 73,
   "metadata": {},
   "outputs": [
    {
     "name": "stdout",
     "output_type": "stream",
     "text": [
      "kiwi\n",
      "apple\n",
      "123\n",
      "mango\n",
      "[12, 24, 35]\n",
      "(1, 2)\n",
      "{1, 2, 3}\n"
     ]
    }
   ],
   "source": [
    "fruits = ['kiwi','apple',123,'mango',[12,24,35],(1,2),{1,2,3}]\n",
    "\n",
    "for val in fruits:\n",
    "    print(val)"
   ]
  },
  {
   "cell_type": "code",
   "execution_count": null,
   "metadata": {},
   "outputs": [],
   "source": [
    "All the things which we can loop over are known as ITERABLES."
   ]
  },
  {
   "cell_type": "code",
   "execution_count": null,
   "metadata": {},
   "outputs": [],
   "source": [
    "ITERABLES ARE GENERALLY THOSE WHICH ARE LIKE A COLLECTION."
   ]
  },
  {
   "cell_type": "code",
   "execution_count": null,
   "metadata": {},
   "outputs": [],
   "source": [
    "SOME ITERABLES ARE:\n",
    "    list\n",
    "    str\n",
    "    tuple\n",
    "    dict\n",
    "    set\n",
    "    range"
   ]
  },
  {
   "cell_type": "code",
   "execution_count": null,
   "metadata": {},
   "outputs": [],
   "source": [
    "SOME NON ITERABLES:\n",
    "    float\n",
    "    bool\n",
    "    int\n",
    "    None"
   ]
  },
  {
   "cell_type": "code",
   "execution_count": 74,
   "metadata": {},
   "outputs": [
    {
     "name": "stdout",
     "output_type": "stream",
     "text": [
      "T\n",
      "h\n",
      "e\n",
      " \n",
      "Q\n",
      "u\n",
      "i\n",
      "c\n",
      "k\n",
      " \n",
      "B\n",
      "r\n",
      "o\n",
      "w\n",
      "n\n",
      " \n",
      "F\n",
      "o\n",
      "x\n",
      " \n",
      "j\n",
      "u\n",
      "m\n",
      "p\n",
      "s\n",
      " \n",
      "o\n",
      "v\n",
      "e\n",
      "r\n",
      " \n",
      "a\n",
      " \n",
      "l\n",
      "a\n",
      "z\n",
      "y\n",
      " \n",
      "d\n",
      "o\n",
      "g\n"
     ]
    }
   ],
   "source": [
    "test_string = 'The Quick Brown Fox jumps over a lazy dog'\n",
    "\n",
    "for char in test_string:\n",
    "    print(char)"
   ]
  },
  {
   "cell_type": "code",
   "execution_count": null,
   "metadata": {},
   "outputs": [],
   "source": [
    "SPACE IS ALSO A CHAR( IT HAS A LIFE TOOOO!!!)"
   ]
  },
  {
   "cell_type": "code",
   "execution_count": 76,
   "metadata": {},
   "outputs": [],
   "source": [
    "test_string = 'app le'\n",
    "\n",
    "# len function can calculate length of a string."
   ]
  },
  {
   "cell_type": "code",
   "execution_count": 77,
   "metadata": {},
   "outputs": [
    {
     "data": {
      "text/plain": [
       "6"
      ]
     },
     "execution_count": 77,
     "metadata": {},
     "output_type": "execute_result"
    }
   ],
   "source": [
    "len(test_string)"
   ]
  },
  {
   "cell_type": "code",
   "execution_count": 78,
   "metadata": {},
   "outputs": [
    {
     "name": "stdout",
     "output_type": "stream",
     "text": [
      "1\n",
      "2\n",
      "3\n"
     ]
    }
   ],
   "source": [
    "test_tuple = (1,2,3)\n",
    "\n",
    "for i in test_tuple:\n",
    "    print(i)"
   ]
  },
  {
   "cell_type": "code",
   "execution_count": 80,
   "metadata": {},
   "outputs": [
    {
     "name": "stdout",
     "output_type": "stream",
     "text": [
      "{1, 2, 3, 4}\n",
      "1\n",
      "2\n",
      "3\n",
      "4\n"
     ]
    }
   ],
   "source": [
    "test_set = {1,2,3,4,4,4,4,4,4,4,4,4,4,4}\n",
    "print(test_set)\n",
    "for i in test_set:\n",
    "    print(i)"
   ]
  },
  {
   "cell_type": "code",
   "execution_count": 82,
   "metadata": {},
   "outputs": [
    {
     "name": "stdout",
     "output_type": "stream",
     "text": [
      "python\n",
      "java\n"
     ]
    }
   ],
   "source": [
    "test_dict = {'python':3,'java':8}\n",
    "\n",
    "for i in test_dict:\n",
    "    print(i)"
   ]
  },
  {
   "cell_type": "code",
   "execution_count": null,
   "metadata": {},
   "outputs": [],
   "source": [
    "dict = {key:value,key:value,,,,etc}"
   ]
  },
  {
   "cell_type": "code",
   "execution_count": null,
   "metadata": {},
   "outputs": [],
   "source": [
    "## What if I want to have the value as well??"
   ]
  },
  {
   "cell_type": "code",
   "execution_count": 83,
   "metadata": {},
   "outputs": [
    {
     "name": "stdout",
     "output_type": "stream",
     "text": [
      "('python', 3)\n",
      "('java', 8)\n"
     ]
    }
   ],
   "source": [
    "test_dict = {'python':3,'java':8}\n",
    "\n",
    "for i in test_dict.items():\n",
    "    print(i)"
   ]
  },
  {
   "cell_type": "code",
   "execution_count": 84,
   "metadata": {},
   "outputs": [
    {
     "name": "stdout",
     "output_type": "stream",
     "text": [
      "dict_items([('python', 3), ('java', 8)])\n"
     ]
    }
   ],
   "source": [
    "test_dict = {'python':3,'java':8}\n",
    "\n",
    "print(test_dict.items())"
   ]
  },
  {
   "cell_type": "code",
   "execution_count": 85,
   "metadata": {},
   "outputs": [
    {
     "name": "stdout",
     "output_type": "stream",
     "text": [
      "dict_keys(['python', 'java'])\n"
     ]
    }
   ],
   "source": [
    "test_dict = {'python':3,'java':8}\n",
    "\n",
    "print(test_dict.keys())"
   ]
  },
  {
   "cell_type": "code",
   "execution_count": 86,
   "metadata": {},
   "outputs": [
    {
     "name": "stdout",
     "output_type": "stream",
     "text": [
      "dict_values([3, 8])\n"
     ]
    }
   ],
   "source": [
    "test_dict = {'python':3,'java':8}\n",
    "\n",
    "print(test_dict.values())"
   ]
  },
  {
   "cell_type": "code",
   "execution_count": 87,
   "metadata": {},
   "outputs": [
    {
     "name": "stdout",
     "output_type": "stream",
     "text": [
      "3\n",
      "8\n"
     ]
    }
   ],
   "source": [
    "for i in test_dict.values():\n",
    "    print(i)"
   ]
  },
  {
   "cell_type": "code",
   "execution_count": null,
   "metadata": {},
   "outputs": [],
   "source": [
    "set is defined by curly brackets {{{{{{{{{{}}}}}}}}}}"
   ]
  },
  {
   "cell_type": "code",
   "execution_count": null,
   "metadata": {},
   "outputs": [],
   "source": [
    "## range function\n",
    "\n",
    "range function provides us an sequence of numbers."
   ]
  },
  {
   "cell_type": "code",
   "execution_count": null,
   "metadata": {},
   "outputs": [],
   "source": [
    "numbers_list = [1,2,3,4,5,6,7,8,,9,10]"
   ]
  },
  {
   "cell_type": "code",
   "execution_count": 89,
   "metadata": {},
   "outputs": [
    {
     "data": {
      "text/plain": [
       "[1, 2, 3, 4, 5, 6, 7, 8, 9]"
      ]
     },
     "execution_count": 89,
     "metadata": {},
     "output_type": "execute_result"
    }
   ],
   "source": [
    "list(range(1,10))"
   ]
  },
  {
   "cell_type": "code",
   "execution_count": null,
   "metadata": {},
   "outputs": [],
   "source": [
    "Syntax of range function:\n",
    "    range(start,stop,step)\n",
    "    \n",
    "start: from which the counting will start.\n",
    "stop: upto but not including\n",
    "step: to jump"
   ]
  },
  {
   "cell_type": "code",
   "execution_count": null,
   "metadata": {},
   "outputs": [],
   "source": [
    "type-casting means converting one data type into another.\n",
    "\n",
    "Few conversion are allowed by Python."
   ]
  },
  {
   "cell_type": "code",
   "execution_count": 92,
   "metadata": {},
   "outputs": [
    {
     "data": {
      "text/plain": [
       "[1, 2, 3, 4, 5, 6, 7, 8, 9, 10, 11, 12, 13, 14, 15, 16, 17, 18, 19]"
      ]
     },
     "execution_count": 92,
     "metadata": {},
     "output_type": "execute_result"
    }
   ],
   "source": [
    "list(range(1,20))"
   ]
  },
  {
   "cell_type": "code",
   "execution_count": 93,
   "metadata": {},
   "outputs": [
    {
     "data": {
      "text/plain": [
       "[1, 3, 5, 7, 9, 11, 13, 15, 17, 19]"
      ]
     },
     "execution_count": 93,
     "metadata": {},
     "output_type": "execute_result"
    }
   ],
   "source": [
    "list(range(1,20,2))"
   ]
  },
  {
   "cell_type": "code",
   "execution_count": 95,
   "metadata": {},
   "outputs": [
    {
     "data": {
      "text/plain": [
       "[6, 8, 10, 12, 14, 16, 18]"
      ]
     },
     "execution_count": 95,
     "metadata": {},
     "output_type": "execute_result"
    }
   ],
   "source": [
    "list(range(6,20,2))"
   ]
  },
  {
   "cell_type": "code",
   "execution_count": 96,
   "metadata": {},
   "outputs": [
    {
     "data": {
      "text/plain": [
       "[20, 18, 16, 14, 12, 10, 8, 6, 4]"
      ]
     },
     "execution_count": 96,
     "metadata": {},
     "output_type": "execute_result"
    }
   ],
   "source": [
    "list(range(20,2,-2))"
   ]
  },
  {
   "cell_type": "code",
   "execution_count": 97,
   "metadata": {},
   "outputs": [
    {
     "data": {
      "text/plain": [
       "[2, 5, 8, 11, 14, 17]"
      ]
     },
     "execution_count": 97,
     "metadata": {},
     "output_type": "execute_result"
    }
   ],
   "source": [
    "list(range(2,20,3))"
   ]
  },
  {
   "cell_type": "code",
   "execution_count": null,
   "metadata": {},
   "outputs": [],
   "source": [
    "range is not a datatype but still it contains a collection."
   ]
  },
  {
   "cell_type": "code",
   "execution_count": 110,
   "metadata": {},
   "outputs": [
    {
     "name": "stdout",
     "output_type": "stream",
     "text": [
      "1\n",
      "2\n",
      "3\n",
      "4\n",
      "5\n",
      "6\n",
      "7\n",
      "8\n",
      "9\n"
     ]
    }
   ],
   "source": [
    "for no in range(1,10):\n",
    "    print(no)"
   ]
  },
  {
   "cell_type": "code",
   "execution_count": 101,
   "metadata": {},
   "outputs": [
    {
     "name": "stdout",
     "output_type": "stream",
     "text": [
      "<class 'set'>\n"
     ]
    }
   ],
   "source": [
    "a = set()\n",
    "\n",
    "print(type(a))"
   ]
  },
  {
   "cell_type": "code",
   "execution_count": 104,
   "metadata": {},
   "outputs": [
    {
     "name": "stdout",
     "output_type": "stream",
     "text": [
      "<class 'set'>\n"
     ]
    }
   ],
   "source": [
    "a = {2,3,4}\n",
    "\n",
    "print(type(a))"
   ]
  },
  {
   "cell_type": "code",
   "execution_count": null,
   "metadata": {},
   "outputs": [],
   "source": [
    "## Complex Numbers ??"
   ]
  },
  {
   "cell_type": "code",
   "execution_count": null,
   "metadata": {},
   "outputs": [],
   "source": [
    "2 + 3j\n",
    "\n",
    "2 is an real part and 3 is an imaginary part."
   ]
  },
  {
   "cell_type": "code",
   "execution_count": 105,
   "metadata": {},
   "outputs": [],
   "source": [
    "complex_no = complex(2,3)"
   ]
  },
  {
   "cell_type": "code",
   "execution_count": 106,
   "metadata": {},
   "outputs": [
    {
     "data": {
      "text/plain": [
       "(2+3j)"
      ]
     },
     "execution_count": 106,
     "metadata": {},
     "output_type": "execute_result"
    }
   ],
   "source": [
    "complex_no"
   ]
  },
  {
   "cell_type": "code",
   "execution_count": 107,
   "metadata": {},
   "outputs": [],
   "source": [
    "complex_no_2 = complex(1,1)"
   ]
  },
  {
   "cell_type": "code",
   "execution_count": 108,
   "metadata": {},
   "outputs": [
    {
     "data": {
      "text/plain": [
       "(1+1j)"
      ]
     },
     "execution_count": 108,
     "metadata": {},
     "output_type": "execute_result"
    }
   ],
   "source": [
    "complex_no_2"
   ]
  },
  {
   "cell_type": "code",
   "execution_count": 109,
   "metadata": {},
   "outputs": [
    {
     "data": {
      "text/plain": [
       "(3+4j)"
      ]
     },
     "execution_count": 109,
     "metadata": {},
     "output_type": "execute_result"
    }
   ],
   "source": [
    "complex_no + complex_no_2"
   ]
  },
  {
   "cell_type": "code",
   "execution_count": null,
   "metadata": {},
   "outputs": [],
   "source": []
  }
 ],
 "metadata": {
  "kernelspec": {
   "display_name": "Python 3",
   "language": "python",
   "name": "python3"
  },
  "language_info": {
   "codemirror_mode": {
    "name": "ipython",
    "version": 3
   },
   "file_extension": ".py",
   "mimetype": "text/x-python",
   "name": "python",
   "nbconvert_exporter": "python",
   "pygments_lexer": "ipython3",
   "version": "3.8.3"
  }
 },
 "nbformat": 4,
 "nbformat_minor": 4
}
