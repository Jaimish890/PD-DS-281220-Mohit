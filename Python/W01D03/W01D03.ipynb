{
 "cells": [
  {
   "cell_type": "code",
   "execution_count": 1,
   "metadata": {},
   "outputs": [
    {
     "name": "stdout",
     "output_type": "stream",
     "text": [
      "hello world!! again\n"
     ]
    }
   ],
   "source": [
    "Jupyter Notebook is used to Write Python, Write Text about it, do lot of other things.\n",
    "So that we can consider it like a Notebook to re-read or understand at a later Point of time.\n",
    "In data science we use it showcase our findings.\n",
    "\n",
    "Cell => Single Rectangular box in which you write code/text.\n",
    "Outline color of a Cell\n",
    "Green => Type code/text(markdown)\n",
    "\n",
    "Blue => CMD MODE (So you can not type in that mode.)\n",
    "\n",
    "How do we get into cmd mode?\n",
    "By pressing ESC\n",
    "\n",
    "CMD MODE can be used to\n",
    "1) Delete a cell by going into cmd mode and pressing dd.\n",
    "2) Converting the cell into markdown by going into cmd mode and pressing m.\n",
    "3) etc but we don't need others much.\n",
    "\n",
    "how to get bAck from cmd to text mode/code mode\n",
    "=> by clicking the cell."
   ]
  },
  {
   "cell_type": "code",
   "execution_count": null,
   "metadata": {},
   "outputs": [],
   "source": [
    "How to Execute a Cell?\n",
    "\n",
    "Shift + Enter => Execute and Insert a new cell."
   ]
  },
  {
   "cell_type": "code",
   "execution_count": 2,
   "metadata": {},
   "outputs": [],
   "source": [
    "What is Markdown?\n",
    "the cell will be no longer coding cell it will become personalized text box\n",
    "similar to html.\n",
    "\n",
    "-> This is used to Write beautifull Notes.\n",
    "\n",
    "I can insert links, text bold text, images and a lot of other things.\n",
    "\n",
    "Markdown cell does not contain the In[1] etc."
   ]
  },
  {
   "cell_type": "markdown",
   "metadata": {},
   "source": [
    "# Heading 1\n",
    "\n",
    "## Heading 2\n",
    "\n",
    "### Heading 3\n",
    "\n",
    "#### Heading 4\n",
    "----------------------"
   ]
  },
  {
   "cell_type": "code",
   "execution_count": 3,
   "metadata": {},
   "outputs": [],
   "source": [
    "What is In[a Number] infront of every Cell in jupyter notebook?\n",
    "\n",
    "It actually tell us when was this cell or at which number this cell was executed."
   ]
  },
  {
   "cell_type": "code",
   "execution_count": 6,
   "metadata": {},
   "outputs": [
    {
     "name": "stdout",
     "output_type": "stream",
     "text": [
      "Hi My name is Mohit\n",
      "Hi My name is Mohit 200\n"
     ]
    }
   ],
   "source": [
    "print(\"Hi My name is Mohit\")\n",
    "print('Hi My name is Mohit',200)"
   ]
  },
  {
   "cell_type": "code",
   "execution_count": 5,
   "metadata": {},
   "outputs": [
    {
     "name": "stdout",
     "output_type": "stream",
     "text": [
      "100 200\n"
     ]
    }
   ],
   "source": [
    "print(100,200)"
   ]
  },
  {
   "cell_type": "code",
   "execution_count": null,
   "metadata": {},
   "outputs": [],
   "source": [
    "Small Intro to\n",
    "Data types:\n",
    "    1. int Examples = 10,-2,-10,14\n",
    "    2. float Examples = 13.4,-10.55,etc\n",
    "    3. String (str) => \"Hi I am a String\" , 'Hi I am also a str' , \"It wasn't my fault\" , \n",
    "    \"\"\"Hi this is also a String\"\"\"\n",
    "    4. list : a collection of objects ['Mohit','Kunal','PandeyJi',12,34,45.45,567.89]\n",
    "    5. tuple : a collection of objects but it is immutable(we can not edit that)\n",
    "        ('Mohit','Borra','sai','Tiwari',34,45.67)\n",
    "    6. dict : a collection of key:value pairs.\n",
    "    heights = {\"mohit\":\"175cm\",\"rahul\":\"180cm\",\"dubeyJi\":\"182cms\"}\n",
    "    print(heights[\"mohit\"]) // 175cm\n",
    "    keys are unique, but values can be repeated.\n",
    "    7. set: it is also a collection but every object will be unique in this collection.\n",
    "        {'mohit','rashmi','sai',345.56,456.7}\n",
    "        they can not keep the order of objects intact."
   ]
  },
  {
   "cell_type": "code",
   "execution_count": 18,
   "metadata": {},
   "outputs": [],
   "source": [
    "heights = {\"mohit\":\"175cm\",\"rahul\":\"180cm\",\"dubeyJi\":\"182cms\",\"mohit\":\"200cm\"} # the earlier mohit\n",
    "\n",
    "# mohit will be overwritten"
   ]
  },
  {
   "cell_type": "code",
   "execution_count": 15,
   "metadata": {},
   "outputs": [
    {
     "name": "stdout",
     "output_type": "stream",
     "text": [
      "200cm\n"
     ]
    }
   ],
   "source": [
    "print(heights[\"mohit\"])"
   ]
  },
  {
   "cell_type": "code",
   "execution_count": 12,
   "metadata": {},
   "outputs": [
    {
     "name": "stdout",
     "output_type": "stream",
     "text": [
      "180cm\n"
     ]
    }
   ],
   "source": [
    "print(heights[\"rahul\"])"
   ]
  },
  {
   "cell_type": "code",
   "execution_count": 16,
   "metadata": {},
   "outputs": [
    {
     "name": "stdout",
     "output_type": "stream",
     "text": [
      "{'mohit': '200cm', 'rahul': '180cm', 'dubeyJi': '182cms'}\n"
     ]
    }
   ],
   "source": [
    "print(heights)"
   ]
  },
  {
   "cell_type": "code",
   "execution_count": 27,
   "metadata": {},
   "outputs": [],
   "source": [
    "## set example\n",
    "test_set = {'mohit','rashmi','sai',345.56,456.7,'mohit','rashmi',345.56}"
   ]
  },
  {
   "cell_type": "code",
   "execution_count": 28,
   "metadata": {},
   "outputs": [
    {
     "name": "stdout",
     "output_type": "stream",
     "text": [
      "{'sai', 'rashmi', 456.7, 'mohit', 345.56}\n"
     ]
    }
   ],
   "source": [
    "print(test_set)"
   ]
  },
  {
   "cell_type": "code",
   "execution_count": 29,
   "metadata": {},
   "outputs": [],
   "source": [
    "test_list = ['mohit','rashmi','sai',345.56,456.7,'mohit','rashmi',345.56]"
   ]
  },
  {
   "cell_type": "code",
   "execution_count": 30,
   "metadata": {},
   "outputs": [
    {
     "name": "stdout",
     "output_type": "stream",
     "text": [
      "['mohit', 'rashmi', 'sai', 345.56, 456.7, 'mohit', 'rashmi', 345.56]\n"
     ]
    }
   ],
   "source": [
    "print(test_list)"
   ]
  },
  {
   "cell_type": "code",
   "execution_count": null,
   "metadata": {},
   "outputs": [],
   "source": []
  }
 ],
 "metadata": {
  "kernelspec": {
   "display_name": "Python 3",
   "language": "python",
   "name": "python3"
  },
  "language_info": {
   "codemirror_mode": {
    "name": "ipython",
    "version": 3
   },
   "file_extension": ".py",
   "mimetype": "text/x-python",
   "name": "python",
   "nbconvert_exporter": "python",
   "pygments_lexer": "ipython3",
   "version": "3.8.3"
  }
 },
 "nbformat": 4,
 "nbformat_minor": 4
}
