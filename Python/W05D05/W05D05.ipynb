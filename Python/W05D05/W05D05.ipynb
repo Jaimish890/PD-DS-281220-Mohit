{
 "cells": [
  {
   "cell_type": "code",
   "execution_count": 1,
   "metadata": {},
   "outputs": [],
   "source": [
    "# re module: contains regx functionalities.\n",
    "    \n",
    "import re"
   ]
  },
  {
   "cell_type": "code",
   "execution_count": null,
   "metadata": {},
   "outputs": [],
   "source": [
    "REGULAR EXPRESSION IS A STRING WHICH CONTAINS SOME CHARS BASED ON RULES OF REGX.\n",
    "\n",
    "THAT STRING CONTAINS:\n",
    "    METACHARS: SPECIAL MEANING.\n",
    "    CHARS: NORMAL CHARS LIKE '1','23','A','R','a','%','&',etc\n",
    "        \n",
    "Examples Regular Expressions:\n",
    "1) '[0-9][0-9]' => 2 digit number.\n",
    "2) 'a' => a.\n",
    "3) '[0-5]' => single digit between 0 to 5."
   ]
  },
  {
   "cell_type": "code",
   "execution_count": null,
   "metadata": {},
   "outputs": [],
   "source": [
    "# re.search(regx, text)\n",
    "\n",
    "-> finds the regx's first occurence in text. when we move from left to right in the text\n",
    "if no occurence than returns nothing.\n",
    "if occurence than print the match along with position where it was found(using span)"
   ]
  },
  {
   "cell_type": "code",
   "execution_count": 27,
   "metadata": {},
   "outputs": [],
   "source": [
    "# print() function: it prints.\n",
    "    \n",
    "# what can be the argument in the print function?\n",
    "# any data type which we want to print. (Variable number of arguments)\n",
    "\n",
    "# end => what will be printed after the printing of all the Arguments.\n",
    "\n",
    "# print(1,[1,2,3,4,5],'3rd Argument')"
   ]
  },
  {
   "cell_type": "code",
   "execution_count": 28,
   "metadata": {},
   "outputs": [
    {
     "name": "stdout",
     "output_type": "stream",
     "text": [
      "<re.Match object; span=(11, 12), match='2'>\n"
     ]
    }
   ],
   "source": [
    "text = 'sdkfljslkdf2384820934890234@#$!@#%$!#appleMango123Man'  # WHERE THE PATTERN WILL BE SEARCHED.\n",
    "regx = '[0-9]' ## what pattern will be searched.\n",
    "\n",
    "output = re.search(regx,text)\n",
    "print(output)"
   ]
  },
  {
   "cell_type": "code",
   "execution_count": null,
   "metadata": {},
   "outputs": [],
   "source": [
    "# METACHARS:(like rules)\n",
    "\n",
    ". (dot) => match with all the chars(alphabets,digits,special chars) except newline ('\\n').(single occurence)\n",
    "    \n",
    "Character Class([]): A set of chars.\n",
    "[A-Z] => all the Capital Alphabets (single occurence)\n",
    "[a-z] => all the small Alphabets (single occurence)\n",
    "[A-Za-z] => small + Capital (single occurence)\n",
    "[0-9] => digits (single occurence)\n",
    "\n",
    "Quantifiers: about occurence\n",
    "+ => atleast 1 or more occurence\n",
    "* => 0 or more occurence\n",
    "? => Optional (like once,or not at all)\n",
    "\n",
    "Anchors:\n",
    "    ^ => start of the string\n",
    "    $ => end of the string\n",
    "    \n",
    "counting stuff({}):\n",
    "[0-9]{2}  =>> [0-9][0-9]\n",
    "[ab@]{3}  =>> [ab@][ab@][ab@]\n",
    "[ab]{1,3} =>> [ab] or [ab][ab][ab] or [ab][ab]"
   ]
  },
  {
   "cell_type": "code",
   "execution_count": 31,
   "metadata": {},
   "outputs": [
    {
     "name": "stdout",
     "output_type": "stream",
     "text": [
      "<re.Match object; span=(0, 1), match='%'>\n"
     ]
    }
   ],
   "source": [
    "text = '%^@#123sdkfljslkdf2384820934890234@#$!@#%$!#appleMango123Man'  # WHERE THE PATTERN WILL BE SEARCHED.\n",
    "\n",
    "output = re.search('.',text)\n",
    "\n",
    "print(output)"
   ]
  },
  {
   "cell_type": "code",
   "execution_count": 23,
   "metadata": {},
   "outputs": [],
   "source": [
    "# re.findall(regx,text)\n",
    "\n",
    "# all the occurence of regx in the text.\n",
    "# it returns a list of matches."
   ]
  },
  {
   "cell_type": "code",
   "execution_count": 32,
   "metadata": {},
   "outputs": [
    {
     "name": "stdout",
     "output_type": "stream",
     "text": [
      "['%', '^', '@', '#', '1', '2', '3', 's', 'd', 'k', 'f', 'l', 'j', 's', 'l', 'k', 'd', 'f', '2', '3', '8', '4', '8', '2', '0', '9', '3', '4', '8', '9', '0', '2', '3', '4', '@', '#', '$', '!', '@', '#', '%', '$', '!', '#', 'a', 'p', 'p', 'l', 'e', 'M', 'a', 'n', 'g', 'o', '1', '2', '3', 'M', 'a', 'n']\n"
     ]
    }
   ],
   "source": [
    "text = '%^@#123sdkfljslkdf2384820934890234@#$!@#%$!#appleMango123Man'  # WHERE THE PATTERN WILL BE SEARCHED.\n",
    "\n",
    "output = re.findall('.',text)\n",
    "\n",
    "print(output)\n",
    "\n",
    "# since dot matches everything, it returns all the char one by one."
   ]
  },
  {
   "cell_type": "code",
   "execution_count": 36,
   "metadata": {},
   "outputs": [
    {
     "name": "stdout",
     "output_type": "stream",
     "text": [
      "['8', '\\t', '2', 'a', 'd', 'A', 'L']\n"
     ]
    }
   ],
   "source": [
    "text = '8\\n\\n\\n\\n\\n\\n\\n\\n\\n\\n\\n\\t2adAL'  # WHERE THE PATTERN WILL BE SEARCHED.\n",
    "\n",
    "output = re.findall('.',text)\n",
    "\n",
    "print(output)\n",
    "\n",
    "# since dot matches everything, it returns all the char one by one."
   ]
  },
  {
   "cell_type": "code",
   "execution_count": null,
   "metadata": {},
   "outputs": [],
   "source": [
    "Character Class([]): A set of chars.\n",
    "[A-Z] => all the Capital Alphabets (single occurence)\n",
    "[a-z] => all the small Alphabets (single occurence)\n",
    "[A-Za-z] => small + Capital (single occurence)\n",
    "[0-9] => digits (single occurence)\n",
    "[2Ay#] => JUST MATCH THE SPECIFIC CHARS DEFINED LIKE 2,A,y,#"
   ]
  },
  {
   "cell_type": "code",
   "execution_count": 39,
   "metadata": {},
   "outputs": [
    {
     "name": "stdout",
     "output_type": "stream",
     "text": [
      "['@', '2', '2', '2', '2', '@', '@', 'p', 'p', '2']\n"
     ]
    }
   ],
   "source": [
    "text = '%^@#123sdkfljslkdf2384820934890234@#$!@#%$!#appleMango123Man'  # WHERE THE PATTERN WILL BE SEARCHED.\n",
    "\n",
    "output = re.findall('[2@p][2@p]',text)\n",
    "\n",
    "print(output)\n",
    "\n",
    "1) pp\n",
    "2) 2p\n",
    "3) @@\n",
    "4) @p\n",
    "\n",
    "Which one of them will be matched? all of them will be matched.\n",
    "\n",
    "What will be the output if the text is '@pp2' , regx = '[2@p][2@p]' using re.findall() ?"
   ]
  },
  {
   "cell_type": "code",
   "execution_count": 40,
   "metadata": {},
   "outputs": [
    {
     "name": "stdout",
     "output_type": "stream",
     "text": [
      "['@p', 'p2']\n"
     ]
    }
   ],
   "source": [
    "text = '@pp2'  # WHERE THE PATTERN WILL BE SEARCHED.\n",
    "\n",
    "output = re.findall('[2@p][2@p]',text)\n",
    "\n",
    "print(output)"
   ]
  },
  {
   "cell_type": "code",
   "execution_count": 52,
   "metadata": {},
   "outputs": [
    {
     "name": "stdout",
     "output_type": "stream",
     "text": [
      "['1', '12', '345', '678', '9']\n"
     ]
    }
   ],
   "source": [
    "text = '1rt12a3456789'\n",
    "output = re.findall('[0-9]{1,3}',text) # from 1 to 3 => 1,2 and 3.\n",
    "print(output)\n",
    "# Character set contains all digits from 0 to 999\n",
    "# single digit, 2 digit or 3 digit number.\n",
    "# [0-9] and [0-9]{2} and [0-9]{3} => 0 - 999"
   ]
  },
  {
   "cell_type": "code",
   "execution_count": 51,
   "metadata": {},
   "outputs": [
    {
     "name": "stdout",
     "output_type": "stream",
     "text": [
      "['125', '6']\n"
     ]
    }
   ],
   "source": [
    "text = '1256'\n",
    "output = re.findall('[0-9]{1,3}',text) # from 1 to 3 => 1,2 and 3.\n",
    "print(output)\n",
    "\n",
    "# Which one of them is correct?\n",
    "# a)first finds 1 digit no and than => 2 digit and than = > 3 digit\n",
    "# b) reverse of a)"
   ]
  },
  {
   "cell_type": "code",
   "execution_count": 58,
   "metadata": {},
   "outputs": [
    {
     "name": "stdout",
     "output_type": "stream",
     "text": [
      "['2256']\n"
     ]
    }
   ],
   "source": [
    "text = '225645634'\n",
    "output = re.findall('^2[0-9]{1,3}',text) # from 1 to 3 => 1,2 and 3.\n",
    "print(output)"
   ]
  },
  {
   "cell_type": "code",
   "execution_count": null,
   "metadata": {},
   "outputs": [],
   "source": [
    "^2 means that string should start with 2 and than [0-9]{1,3} means 1,2 or 3 digit number."
   ]
  },
  {
   "cell_type": "code",
   "execution_count": 66,
   "metadata": {},
   "outputs": [
    {
     "name": "stdout",
     "output_type": "stream",
     "text": [
      "['413X']\n"
     ]
    }
   ],
   "source": [
    "text = '3413X'\n",
    "output = re.findall('[0-9]{1,3}X$',text) # from 1 to 3 => 1,2 and 3.\n",
    "print(output)\n",
    "\n",
    "## this regx is executing from behind."
   ]
  },
  {
   "cell_type": "code",
   "execution_count": 67,
   "metadata": {},
   "outputs": [
    {
     "name": "stdout",
     "output_type": "stream",
     "text": [
      "['3413X']\n"
     ]
    }
   ],
   "source": [
    "text = '3413X'\n",
    "output = re.findall('^3[0-9]{1,3}X$',text) # from 1 to 3 => 1,2 and 3.\n",
    "print(output)\n",
    "\n",
    "## this regx is executing from behind."
   ]
  },
  {
   "cell_type": "code",
   "execution_count": null,
   "metadata": {},
   "outputs": [],
   "source": [
    "HACKERANK AND LEETCODE: IF-ELSE, WHILE LOOP, FOR LOOP, FUNCTIONS , DATA TYPES."
   ]
  }
 ],
 "metadata": {
  "kernelspec": {
   "display_name": "Python 3",
   "language": "python",
   "name": "python3"
  },
  "language_info": {
   "codemirror_mode": {
    "name": "ipython",
    "version": 3
   },
   "file_extension": ".py",
   "mimetype": "text/x-python",
   "name": "python",
   "nbconvert_exporter": "python",
   "pygments_lexer": "ipython3",
   "version": "3.8.3"
  }
 },
 "nbformat": 4,
 "nbformat_minor": 4
}
