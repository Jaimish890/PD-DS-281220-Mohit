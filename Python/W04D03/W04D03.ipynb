{
 "cells": [
  {
   "cell_type": "markdown",
   "metadata": {},
   "source": [
    "## Q1)Given a string. The task is to print all words with even length in the given string.\n",
    "given_string = \"Sarcasm is good\"\n",
    "\n",
    "## Intuition: Can we use len function for each  word?\n",
    "\n",
    "### Hint: Remember split?"
   ]
  },
  {
   "cell_type": "code",
   "execution_count": 2,
   "metadata": {},
   "outputs": [
    {
     "name": "stdout",
     "output_type": "stream",
     "text": [
      "is\n",
      "good\n",
      "oh\n"
     ]
    }
   ],
   "source": [
    "def even(a):\n",
    "    b=a.split()\n",
    "    for i in b:\n",
    "        if len(i)%2==0:\n",
    "            print(i)\n",
    "even(\"Sarcasm is good\")\n",
    "\n",
    "print('oh')"
   ]
  },
  {
   "cell_type": "code",
   "execution_count": null,
   "metadata": {},
   "outputs": [],
   "source": [
    "What are the different namespaces in above program?\n",
    "\n",
    "-> Builtin namespace: By default with python, without even creating a file in python/module in python.\n",
    "It contains the builtin functions and libraries like print(),split(),len(),sum(),min(),max(), etc.....\n",
    "-> global namespace:\n",
    "    even\n",
    "-> local namespace of even function:\n",
    "    a\n",
    "    b\n",
    "    i"
   ]
  },
  {
   "cell_type": "code",
   "execution_count": 3,
   "metadata": {},
   "outputs": [
    {
     "name": "stdout",
     "output_type": "stream",
     "text": [
      "is\n",
      "good\n"
     ]
    }
   ],
   "source": [
    "def print_Words(s):\n",
    "    s = s.split(' ')\n",
    "\n",
    "    for word in s:\n",
    "       if len(word)%2==0:\n",
    "          print(word)\n",
    "\n",
    "s = \"Sarcasm is good\"\n",
    "print_Words(s)"
   ]
  },
  {
   "cell_type": "code",
   "execution_count": null,
   "metadata": {},
   "outputs": [],
   "source": [
    "global: print_Words,s\n",
    "    \n",
    "local of print_Words: s,word"
   ]
  },
  {
   "cell_type": "markdown",
   "metadata": {},
   "source": [
    "## Q2)Given a pair of non empty strings. Count the number of matching characters in those strings (consider the single count for the character which have duplicates in the strings).\n",
    "\n",
    "    string1 = \"apple\"\n",
    "    string2 = \"allofpython\"\n",
    "\n",
    "### Intuition and Pseudocode: \n",
    "                1.)how do i remove duplicates ?\n",
    "                2.)duplicates???? oh we have set that does not contain duplicates?\n",
    "                3.)can i convert a string to a set?\n",
    "                4.)Now without duplicates I just have to find common elements between sets?\n",
    "                5.) Intersection??"
   ]
  },
  {
   "cell_type": "code",
   "execution_count": null,
   "metadata": {},
   "outputs": [],
   "source": [
    "# IndexError"
   ]
  },
  {
   "cell_type": "code",
   "execution_count": 8,
   "metadata": {},
   "outputs": [
    {
     "ename": "IndexError",
     "evalue": "list index out of range",
     "output_type": "error",
     "traceback": [
      "\u001b[1;31m---------------------------------------------------------------------------\u001b[0m",
      "\u001b[1;31mIndexError\u001b[0m                                Traceback (most recent call last)",
      "\u001b[1;32m<ipython-input-8-a4411b0ac4c0>\u001b[0m in \u001b[0;36m<module>\u001b[1;34m\u001b[0m\n\u001b[0;32m     10\u001b[0m \u001b[1;31m# Indexerror occurs when we try to access a index position which is not present in the list.\u001b[0m\u001b[1;33m\u001b[0m\u001b[1;33m\u001b[0m\u001b[1;33m\u001b[0m\u001b[0m\n\u001b[0;32m     11\u001b[0m \u001b[1;33m\u001b[0m\u001b[0m\n\u001b[1;32m---> 12\u001b[1;33m \u001b[0mprint\u001b[0m\u001b[1;33m(\u001b[0m\u001b[0mlist1\u001b[0m\u001b[1;33m[\u001b[0m\u001b[1;33m-\u001b[0m\u001b[1;36m4\u001b[0m\u001b[1;33m]\u001b[0m\u001b[1;33m)\u001b[0m\u001b[1;33m\u001b[0m\u001b[1;33m\u001b[0m\u001b[0m\n\u001b[0m",
      "\u001b[1;31mIndexError\u001b[0m: list index out of range"
     ]
    }
   ],
   "source": [
    "list1 = ['apple','mango','kiwi']\n",
    "\n",
    "# What is index?\n",
    "\n",
    "# 0th index in list1? apple\n",
    "# 2nd index in list1? kiwi\n",
    "\n",
    "# What are the index positions which are present here? 0,1,2\n",
    "# in reverse: -1,-2,-3\n",
    "\n",
    "# Indexerror occurs when we try to access a index position which is not present in the list.\n",
    "\n",
    "print(list1[-4])"
   ]
  },
  {
   "cell_type": "code",
   "execution_count": 9,
   "metadata": {},
   "outputs": [
    {
     "ename": "IndexError",
     "evalue": "list index out of range",
     "output_type": "error",
     "traceback": [
      "\u001b[1;31m---------------------------------------------------------------------------\u001b[0m",
      "\u001b[1;31mIndexError\u001b[0m                                Traceback (most recent call last)",
      "\u001b[1;32m<ipython-input-9-2ff69b0ff8ea>\u001b[0m in \u001b[0;36m<module>\u001b[1;34m\u001b[0m\n\u001b[1;32m----> 1\u001b[1;33m \u001b[0mprint\u001b[0m\u001b[1;33m(\u001b[0m\u001b[0mlist1\u001b[0m\u001b[1;33m[\u001b[0m\u001b[1;36m3\u001b[0m\u001b[1;33m]\u001b[0m\u001b[1;33m)\u001b[0m\u001b[1;33m\u001b[0m\u001b[1;33m\u001b[0m\u001b[0m\n\u001b[0m",
      "\u001b[1;31mIndexError\u001b[0m: list index out of range"
     ]
    }
   ],
   "source": [
    "print(list1[3])"
   ]
  },
  {
   "cell_type": "code",
   "execution_count": 10,
   "metadata": {},
   "outputs": [
    {
     "data": {
      "text/plain": [
       "3"
      ]
     },
     "execution_count": 10,
     "metadata": {},
     "output_type": "execute_result"
    }
   ],
   "source": [
    "def dup(a,b):\n",
    "    lit = set()\n",
    "    for i in a:\n",
    "        if i in b:\n",
    "            lit.add(i)\n",
    "    return len(lit)\n",
    "dup(\"apple\",\"allofpython\")"
   ]
  },
  {
   "cell_type": "code",
   "execution_count": null,
   "metadata": {},
   "outputs": [],
   "source": [
    "global names: dup\n",
    "\n",
    "local names of dup: a,b,lit,i,return value."
   ]
  },
  {
   "cell_type": "code",
   "execution_count": 11,
   "metadata": {},
   "outputs": [
    {
     "data": {
      "text/plain": [
       "4"
      ]
     },
     "execution_count": 11,
     "metadata": {},
     "output_type": "execute_result"
    }
   ],
   "source": [
    "def count(a,b):\n",
    "    set(a).intersection_update(set(b))\n",
    "    return len(a)\n",
    "count('arun','arun kumar')"
   ]
  },
  {
   "cell_type": "markdown",
   "metadata": {},
   "source": [
    "# global keyword"
   ]
  },
  {
   "cell_type": "code",
   "execution_count": null,
   "metadata": {},
   "outputs": [],
   "source": [
    "# What if I want to update a value of a global variable?"
   ]
  },
  {
   "cell_type": "code",
   "execution_count": 15,
   "metadata": {},
   "outputs": [
    {
     "name": "stdout",
     "output_type": "stream",
     "text": [
      "x in local namespace of summation is sad\n"
     ]
    }
   ],
   "source": [
    "x = 'happy'\n",
    "\n",
    "def summation(a):\n",
    "    global x\n",
    "    x = 'sad'\n",
    "    print('x in local namespace of summation is',x)\n",
    "    \n",
    "summation('mango')"
   ]
  },
  {
   "cell_type": "markdown",
   "metadata": {},
   "source": [
    "# UnboundLocalError: local variable 'x' referenced before assignment"
   ]
  },
  {
   "cell_type": "code",
   "execution_count": 17,
   "metadata": {},
   "outputs": [
    {
     "ename": "UnboundLocalError",
     "evalue": "local variable 'x' referenced before assignment",
     "output_type": "error",
     "traceback": [
      "\u001b[1;31m---------------------------------------------------------------------------\u001b[0m",
      "\u001b[1;31mUnboundLocalError\u001b[0m                         Traceback (most recent call last)",
      "\u001b[1;32m<ipython-input-17-2e6e49c60466>\u001b[0m in \u001b[0;36m<module>\u001b[1;34m\u001b[0m\n\u001b[0;32m     11\u001b[0m     \u001b[1;32mreturn\u001b[0m \u001b[1;34m'lalalala'\u001b[0m\u001b[1;33m\u001b[0m\u001b[1;33m\u001b[0m\u001b[0m\n\u001b[0;32m     12\u001b[0m \u001b[1;33m\u001b[0m\u001b[0m\n\u001b[1;32m---> 13\u001b[1;33m \u001b[0msummation\u001b[0m\u001b[1;33m(\u001b[0m\u001b[1;34m'mango'\u001b[0m\u001b[1;33m)\u001b[0m\u001b[1;33m\u001b[0m\u001b[1;33m\u001b[0m\u001b[0m\n\u001b[0m\u001b[0;32m     14\u001b[0m \u001b[0msubtraction\u001b[0m\u001b[1;33m(\u001b[0m\u001b[1;34m'kiwi'\u001b[0m\u001b[1;33m)\u001b[0m\u001b[1;33m\u001b[0m\u001b[1;33m\u001b[0m\u001b[0m\n\u001b[0;32m     15\u001b[0m \u001b[1;33m\u001b[0m\u001b[0m\n",
      "\u001b[1;32m<ipython-input-17-2e6e49c60466>\u001b[0m in \u001b[0;36msummation\u001b[1;34m(a)\u001b[0m\n\u001b[0;32m      2\u001b[0m \u001b[1;33m\u001b[0m\u001b[0m\n\u001b[0;32m      3\u001b[0m \u001b[1;32mdef\u001b[0m \u001b[0msummation\u001b[0m\u001b[1;33m(\u001b[0m\u001b[0ma\u001b[0m\u001b[1;33m)\u001b[0m\u001b[1;33m:\u001b[0m\u001b[1;33m\u001b[0m\u001b[1;33m\u001b[0m\u001b[0m\n\u001b[1;32m----> 4\u001b[1;33m     \u001b[0mprint\u001b[0m\u001b[1;33m(\u001b[0m\u001b[1;34m'x without defining a local x we get'\u001b[0m\u001b[1;33m,\u001b[0m\u001b[0mx\u001b[0m\u001b[1;33m)\u001b[0m\u001b[1;33m\u001b[0m\u001b[1;33m\u001b[0m\u001b[0m\n\u001b[0m\u001b[0;32m      5\u001b[0m     \u001b[0mx\u001b[0m \u001b[1;33m=\u001b[0m \u001b[1;34m'sad'\u001b[0m \u001b[1;31m## assignment of local variable x is happening in this line.\u001b[0m\u001b[1;33m\u001b[0m\u001b[1;33m\u001b[0m\u001b[0m\n\u001b[0;32m      6\u001b[0m     \u001b[0mprint\u001b[0m\u001b[1;33m(\u001b[0m\u001b[1;34m'x in local namespace of summation is'\u001b[0m\u001b[1;33m,\u001b[0m\u001b[0mx\u001b[0m\u001b[1;33m)\u001b[0m\u001b[1;33m\u001b[0m\u001b[1;33m\u001b[0m\u001b[0m\n",
      "\u001b[1;31mUnboundLocalError\u001b[0m: local variable 'x' referenced before assignment"
     ]
    }
   ],
   "source": [
    "x = 'happy'\n",
    "\n",
    "def summation(a):\n",
    "    print('x without defining a local x we get',x)\n",
    "    x = 'sad' ## assignment of local variable x is happening in this line.\n",
    "    print('x in local namespace of summation is',x)\n",
    "    \n",
    "def subtraction(a):\n",
    "    x = 'wow'\n",
    "    print('x in local namespace of subtraction is',x)\n",
    "    return 'lalalala'\n",
    "    \n",
    "summation('mango')\n",
    "subtraction('kiwi')\n",
    "\n",
    "print('x in global namespace is',x)\n",
    "\n",
    "if True:\n",
    "    print('x inside this if statement is',x)"
   ]
  },
  {
   "cell_type": "code",
   "execution_count": null,
   "metadata": {},
   "outputs": [],
   "source": [
    "IT WILL NOT PRINT THE GLOBAL VALUE IF LOCAL NAMESPACE CONTAINS THE SAME NAME VARIABLE.\n",
    "\n",
    "HOW DOES PYTHON KNOW IF THE FUN CONTAINS THE SAME NAME VAR?\n",
    "PYTHON SAVES NAMESSPACES BEFORE RUNNING THE PROGRAM."
   ]
  },
  {
   "cell_type": "code",
   "execution_count": null,
   "metadata": {},
   "outputs": [],
   "source": [
    "I think as sir had mentioned, first python checks in local variables, and since there is an x in local namespace but \n",
    "it is not defined yet, IT IS GOING TO GIVE US AN ERROR."
   ]
  },
  {
   "cell_type": "markdown",
   "metadata": {},
   "source": [
    "## Q3.find the missing number in given integer array of 1 to 10.\n",
    "    l = [1,2,3,4,5,6,7,7,9,10]\n",
    "\n",
    "\n",
    "### Intuition:\n",
    " => Range(1,11)\n",
    "\n",
    " => Sum of n natural nos : n (n+1) / 2\n",
    "     sum => 1 to 10 \n",
    "     sum_list   \n",
    "     missing element = sum - sum_list \n",
    "\n",
    "=> Sets  only unique elemnts "
   ]
  },
  {
   "cell_type": "code",
   "execution_count": 28,
   "metadata": {},
   "outputs": [
    {
     "name": "stdout",
     "output_type": "stream",
     "text": [
      "6\n"
     ]
    }
   ],
   "source": [
    "# DO NOT USE PYTHON RESERVED KEYWORDS. LIKE list,for,if,else,etc.\n",
    "\n",
    "l = [1,2,3,4,5,7,8,9,10]\n",
    "def find_missing(list1):  ## list1 is a parameter.\n",
    "    set1 = set()\n",
    "    for i in list1:\n",
    "        set1.add(i)\n",
    "    for i in range(1,11):\n",
    "        if i not in set1:\n",
    "            print(i)\n",
    "        \n",
    "find_missing(l) # l is an argument."
   ]
  },
  {
   "cell_type": "code",
   "execution_count": 31,
   "metadata": {},
   "outputs": [
    {
     "name": "stdout",
     "output_type": "stream",
     "text": [
      "8\n"
     ]
    }
   ],
   "source": [
    "l = [1, 2, 3, 4, 5, 6, 7, 7, 9, 10]\n",
    "def MissingNo(l):\n",
    "    total = 55\n",
    "    sum_of_l = sum(set(l))\n",
    "    y = total - sum_of_l\n",
    "    return y\n",
    "\n",
    "missing = MissingNo(l)\n",
    "print(missing)"
   ]
  },
  {
   "cell_type": "code",
   "execution_count": null,
   "metadata": {},
   "outputs": [],
   "source": [
    "global names: missing, MissingNo, l\n",
    "    \n",
    "local names of MissingNo: l,total,sum_of_l,y"
   ]
  },
  {
   "cell_type": "code",
   "execution_count": 32,
   "metadata": {},
   "outputs": [
    {
     "name": "stdout",
     "output_type": "stream",
     "text": [
      "8\n"
     ]
    }
   ],
   "source": [
    "# lets reduce the no of variables.\n",
    "\n",
    "def MissingNo(l):\n",
    "    return 55 - sum(set(l))\n",
    "\n",
    "print(MissingNo([1, 2, 3, 4, 5, 6, 7, 7, 9, 10]))"
   ]
  },
  {
   "cell_type": "code",
   "execution_count": 24,
   "metadata": {},
   "outputs": [
    {
     "name": "stdout",
     "output_type": "stream",
     "text": [
      "7\n"
     ]
    }
   ],
   "source": [
    "def missing(s):\n",
    "\tfor i in range(1,11):\n",
    "\t\tif i not in s:\n",
    "\t\t\tprint(i)\n",
    "missing([1,2,3,4,5,6,8,9,9,9,9,10])"
   ]
  },
  {
   "cell_type": "markdown",
   "metadata": {},
   "source": [
    "## Q4)For the given sentence as input, censor a specific word with asterisks ‘ * ‘.\n",
    "[Remember * will be equal to the character present in that word]\n",
    "\n",
    "### Intuition and Pseudocode:\n",
    "    1.) I already know that I can get words separated out of this string using split().\n",
    "    2.) I can compare every word with censor\n",
    "    3.) List are mutable, so i can replace it with *.\n",
    "    4.) I need a string back, what about using join??"
   ]
  },
  {
   "cell_type": "code",
   "execution_count": 43,
   "metadata": {},
   "outputs": [
    {
     "data": {
      "text/plain": [
       "'1 2 3 4'"
      ]
     },
     "execution_count": 43,
     "metadata": {},
     "output_type": "execute_result"
    }
   ],
   "source": [
    "' '.join(['1','2','3','4'])"
   ]
  },
  {
   "cell_type": "code",
   "execution_count": 42,
   "metadata": {},
   "outputs": [
    {
     "name": "stdout",
     "output_type": "stream",
     "text": [
      "['I', 'will', 'be', 'a', 'data', 'scientist']\n",
      "['I', 'will', 'be', 'a', '****', 'scientist']\n"
     ]
    },
    {
     "data": {
      "text/plain": [
       "'I will be a **** scientist'"
      ]
     },
     "execution_count": 42,
     "metadata": {},
     "output_type": "execute_result"
    }
   ],
   "source": [
    "string = 'I will be a data scientist'\n",
    "word = 'data'\n",
    "\n",
    "def censor(s, w):\n",
    "    s = s.split()\n",
    "    print(s)\n",
    "    for i in range(len(s)):\n",
    "        if s[i] == w:\n",
    "            s.remove(s[i])\n",
    "            s.insert(i, '*'*len(word))\n",
    "    print(s)\n",
    "            \n",
    "    return ' '.join(s)\n",
    "\n",
    "censor(string, word)"
   ]
  },
  {
   "cell_type": "code",
   "execution_count": 41,
   "metadata": {},
   "outputs": [
    {
     "data": {
      "text/plain": [
       "'****'"
      ]
     },
     "execution_count": 41,
     "metadata": {},
     "output_type": "execute_result"
    }
   ],
   "source": [
    "len('data')*'*'"
   ]
  },
  {
   "cell_type": "code",
   "execution_count": 40,
   "metadata": {},
   "outputs": [
    {
     "data": {
      "text/plain": [
       "'MMMM'"
      ]
     },
     "execution_count": 40,
     "metadata": {},
     "output_type": "execute_result"
    }
   ],
   "source": [
    "4*'M'"
   ]
  },
  {
   "cell_type": "code",
   "execution_count": 44,
   "metadata": {},
   "outputs": [
    {
     "name": "stdout",
     "output_type": "stream",
     "text": [
      "['I', 'will', 'be', 'a', 'data', 'scientist']\n",
      "['I', 'will', 'be', 'a', '****', 'scientist']\n"
     ]
    },
    {
     "data": {
      "text/plain": [
       "'I will be a **** scientist'"
      ]
     },
     "execution_count": 44,
     "metadata": {},
     "output_type": "execute_result"
    }
   ],
   "source": [
    "string = 'I will be a data scientist'\n",
    "word = 'data'\n",
    "\n",
    "def censor(s, w):\n",
    "    s = s.split()\n",
    "    print(s)\n",
    "    for i in range(len(s)):\n",
    "        if s[i] == w:\n",
    "            s[i] = '*'*len(word)\n",
    "    print(s)\n",
    "            \n",
    "    return ' '.join(s)\n",
    "\n",
    "censor(string, word)"
   ]
  },
  {
   "cell_type": "code",
   "execution_count": 45,
   "metadata": {},
   "outputs": [
    {
     "name": "stdout",
     "output_type": "stream",
     "text": [
      "['happy', 'mango']\n"
     ]
    }
   ],
   "source": [
    "list1 = ['happy','doll']\n",
    "\n",
    "list1[1] = 'mango'\n",
    "\n",
    "print(list1)"
   ]
  },
  {
   "cell_type": "code",
   "execution_count": null,
   "metadata": {},
   "outputs": [],
   "source": [
    "# Julian Asange, Embassy of Ecuador,UK"
   ]
  }
 ],
 "metadata": {
  "kernelspec": {
   "display_name": "Python 3",
   "language": "python",
   "name": "python3"
  },
  "language_info": {
   "codemirror_mode": {
    "name": "ipython",
    "version": 3
   },
   "file_extension": ".py",
   "mimetype": "text/x-python",
   "name": "python",
   "nbconvert_exporter": "python",
   "pygments_lexer": "ipython3",
   "version": "3.8.3"
  }
 },
 "nbformat": 4,
 "nbformat_minor": 4
}
