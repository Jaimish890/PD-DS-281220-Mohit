{
 "cells": [
  {
   "cell_type": "markdown",
   "metadata": {},
   "source": [
    "## Q1)Given a string. The task is to print all words with even length in the given string.\n",
    "given_string = \"Sarcasm is good\"\n",
    "\n",
    "## Intuition: Can we use len function for each  word?\n",
    "\n",
    "### Hint: Remember split?"
   ]
  },
  {
   "cell_type": "markdown",
   "metadata": {},
   "source": [
    "## Q2)Given a pair of non empty strings. Count the number of matching characters in those strings (consider the single count for the character which have duplicates in the strings).\n",
    "\n",
    "    string1 = \"apple\"\n",
    "    string2 = \"allofpython\"\n",
    "\n",
    "### Intuition and Pseudocode: \n",
    "                1.)how do i remove duplicates ?\n",
    "                2.)duplicates???? oh we have set that does not contain duplicates?\n",
    "                3.)can i convert a string to a set?\n",
    "                4.)Now without duplicates I just have to find common elements between sets?\n",
    "                5.) Intersection??"
   ]
  },
  {
   "cell_type": "markdown",
   "metadata": {},
   "source": [
    "## Q3.find the missing number in given integer array of 1 to 10.\n",
    "    l = [1,2,3,4,5,6,7,7,9,10]\n",
    "\n",
    "\n",
    "### Intuition:\n",
    " => Range(1,11)\n",
    "\n",
    " => Sum of n natural nos : n (n+1) / 2\n",
    "     sum => 1 to 10 \n",
    "     sum_list   \n",
    "     missing element = sum - sum_list \n",
    "\n",
    "=> Sets  only unique elemnts "
   ]
  },
  {
   "cell_type": "markdown",
   "metadata": {},
   "source": [
    "## Q4)For the given sentence as input, censor a specific word with asterisks ‘ * ‘.\n",
    "[Remember * will be equal to the character present in that word]\n",
    "\n",
    "### Intuition and Pseudocode:\n",
    "    1.) I already know that I can get words separated out of this string using split().\n",
    "    2.) I can compare every word with censor\n",
    "    3.) List are mutable, so i can replace it with *.\n",
    "    4.) I need a string back, what about using join??"
   ]
  },
  {
   "cell_type": "markdown",
   "metadata": {},
   "source": [
    "## Q5 Find an element in array such that sum of left array is equal to sum of right array.\n",
    "\n",
    "    l1 = [1,2,3,1,1,1]\n",
    "    l2 = [1,2,1,1,5,1,4]\n",
    "\n",
    "### Intuition \n",
    "    Basic Method:\n",
    "    1.) What is the most basic way? For each element sum left side and right side and check if they are equal?\n",
    "    \n",
    "    Amazing Method:\n",
    "    1.)think in terms of cumulative sum? and total sum? Recognize pattern"
   ]
  },
  {
   "cell_type": "markdown",
   "metadata": {},
   "source": [
    "## Q6.Write a program to find the first non repeated character of a given String of small letter alphabets\n",
    "    string1 = \"hellopython\"  =>e\n",
    "    string2 = \"appleappleok\"  =>o\n",
    "\n",
    "### Intuition:\n",
    "    1.)Is it good to use something which is unordered? why why not?\n",
    "    2.)Can we use list to update each index based on the ord value of alphabets?\n",
    "    3.)if yes, than how to use that list to find out first non repeated charater?\n",
    "    \n",
    "    Can we use dictionary? If we have Python 3.6+?"
   ]
  }
 ],
 "metadata": {
  "kernelspec": {
   "display_name": "Python 3",
   "language": "python",
   "name": "python3"
  },
  "language_info": {
   "codemirror_mode": {
    "name": "ipython",
    "version": 3
   },
   "file_extension": ".py",
   "mimetype": "text/x-python",
   "name": "python",
   "nbconvert_exporter": "python",
   "pygments_lexer": "ipython3",
   "version": "3.8.3"
  }
 },
 "nbformat": 4,
 "nbformat_minor": 4
}
