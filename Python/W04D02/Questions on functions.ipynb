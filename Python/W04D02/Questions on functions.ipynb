{
 "cells": [
  {
   "cell_type": "markdown",
   "metadata": {},
   "source": [
    "# Q1 Write a function which will take 2 numbers and return sum of multiplication and subtraction of those two numbers"
   ]
  },
  {
   "cell_type": "markdown",
   "metadata": {},
   "source": [
    "# Q 2 Check if a number is even or not with fun"
   ]
  },
  {
   "cell_type": "markdown",
   "metadata": {},
   "source": [
    "## Q3 Write a function as follows:\n",
    "\n",
    "* Take two numbers\n",
    "* Check if first number is even\n",
    "* If first number is even, multiply them\n",
    "* Else divide them\n",
    "* Return the result"
   ]
  },
  {
   "cell_type": "markdown",
   "metadata": {},
   "source": [
    "## Q4 Conside Jack and Jill are 2 separate functions and a 3rd function Utility\n",
    "* Utility fun will take x as input number. This fun calls Jack and Jill fun one by one, total x no of times with x as the input\n",
    "  to them.\n",
    "* Jack increments x by 2\n",
    "* Jill decrements x by 1"
   ]
  },
  {
   "cell_type": "markdown",
   "metadata": {},
   "source": [
    "## Q5 Write a function which takes an dictionary as input, and prints the key value pair one by one as follows:-\n",
    "\n",
    "### Input: test_dict = {'python':3,'java':8,'numpy':1}\n",
    "\n",
    "### Output: python --> 3\n",
    "        java --> 8\n",
    "        numpy --> 1"
   ]
  },
  {
   "cell_type": "code",
   "execution_count": 1,
   "metadata": {},
   "outputs": [],
   "source": [
    "## Q6 Write a fun, which takes a sentence. It is going to print all the vowels one by one which are present inside that sentence.\n",
    "\n",
    "### for example: \n",
    "# -- Input: 'Hi Bro!'\n",
    "# -- Output:  i  \n",
    "# --          o"
   ]
  },
  {
   "cell_type": "code",
   "execution_count": null,
   "metadata": {},
   "outputs": [],
   "source": [
    "## Q7 Write a fun, which tell if a sentence contains all the  26 alphabets.\n",
    "\n",
    "'the quicK brown foX jumPs over Lazy dog'\n",
    "\n",
    "DO IT BY 3 DIFFERENT METHODS:\n",
    "    1) BY USING DICTIONARIES\n",
    "    2) BY USING LIST\n",
    "    3) BY USING SET ( BUT HERE SET WILL NOT CONTAIN ALL THE ALPHABETS.)"
   ]
  }
 ],
 "metadata": {
  "kernelspec": {
   "display_name": "Python 3",
   "language": "python",
   "name": "python3"
  },
  "language_info": {
   "codemirror_mode": {
    "name": "ipython",
    "version": 3
   },
   "file_extension": ".py",
   "mimetype": "text/x-python",
   "name": "python",
   "nbconvert_exporter": "python",
   "pygments_lexer": "ipython3",
   "version": "3.8.3"
  }
 },
 "nbformat": 4,
 "nbformat_minor": 4
}
