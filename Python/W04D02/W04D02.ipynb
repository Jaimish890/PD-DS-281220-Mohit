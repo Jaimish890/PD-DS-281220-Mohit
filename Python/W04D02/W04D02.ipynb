{
 "cells": [
  {
   "cell_type": "code",
   "execution_count": null,
   "metadata": {},
   "outputs": [],
   "source": [
    "SYNTAX: DEFINIG A FUN\n",
    "    \n",
    "def name_of_fun(param1,param2,...):\n",
    "    statement1\n",
    "    statement2\n",
    "    ...\n",
    "    return statement3 # optional (None is returned if you don't write a return statement)\n",
    "    \n",
    "SYNTAX: CALLING A FUN\n",
    "    \n",
    "name_of_fun(arg1,arg2,...)\n",
    "\n",
    "I can call a fun as many times as I want."
   ]
  },
  {
   "cell_type": "code",
   "execution_count": 2,
   "metadata": {},
   "outputs": [
    {
     "name": "stdout",
     "output_type": "stream",
     "text": [
      "8\n"
     ]
    }
   ],
   "source": [
    "def power_of_number(no,exponent):\n",
    "    power = no**exponent\n",
    "    return power\n",
    "\n",
    "x = power_of_number(2,3)\n",
    "\n",
    "print(x)"
   ]
  },
  {
   "cell_type": "code",
   "execution_count": null,
   "metadata": {},
   "outputs": [],
   "source": [
    "What is the benefit of funs: reusing that piece of code"
   ]
  },
  {
   "cell_type": "code",
   "execution_count": 3,
   "metadata": {},
   "outputs": [
    {
     "data": {
      "text/plain": [
       "16"
      ]
     },
     "execution_count": 3,
     "metadata": {},
     "output_type": "execute_result"
    }
   ],
   "source": [
    "power_of_number(2,4)"
   ]
  },
  {
   "cell_type": "code",
   "execution_count": 4,
   "metadata": {},
   "outputs": [
    {
     "data": {
      "text/plain": [
       "25"
      ]
     },
     "execution_count": 4,
     "metadata": {},
     "output_type": "execute_result"
    }
   ],
   "source": [
    "power_of_number(5,2)"
   ]
  },
  {
   "cell_type": "markdown",
   "metadata": {},
   "source": [
    "# Q1 Write a function which will take 2 numbers and return sum of multiplication and subtraction of those two numbers"
   ]
  },
  {
   "cell_type": "code",
   "execution_count": 5,
   "metadata": {},
   "outputs": [
    {
     "name": "stdout",
     "output_type": "stream",
     "text": [
      "21\n"
     ]
    }
   ],
   "source": [
    "def sum_of_multi_sub(number_1,number_2):\n",
    "    multi = number_1*number_2\n",
    "    sub = number_1 - number_2\n",
    "    summation = multi + sub\n",
    "    return summation\n",
    "\n",
    "x = sum_of_multi_sub(6,3)\n",
    "\n",
    "print(x)"
   ]
  },
  {
   "cell_type": "markdown",
   "metadata": {},
   "source": [
    "## How to send multiple arguments from a function?"
   ]
  },
  {
   "cell_type": "code",
   "execution_count": 9,
   "metadata": {},
   "outputs": [
    {
     "name": "stdout",
     "output_type": "stream",
     "text": [
      "18 <class 'int'>\n",
      "3 <class 'int'>\n"
     ]
    }
   ],
   "source": [
    "# Q1 modified > return the sub and multi.\n",
    "\n",
    "def multi_sub(number_1,number_2):\n",
    "    multi = number_1*number_2\n",
    "    sub = number_1 - number_2\n",
    "    summation = multi + sub\n",
    "    return multi,sub  # this automatically sends a tuple back.\n",
    "\n",
    "# Note: WE ARE RETURNING ONLY ONE THING HERE: TUPLE (THIS TUPLE CONTAINS MULTIPLE ELEMNTS)\n",
    "\n",
    "# x = multi_sub(6,3)\n",
    "\n",
    "# print(type(x),x)\n",
    "\n",
    "## tuple unpacking here.  x,y = (a,b)\n",
    "\n",
    "multi,sub = multi_sub(6,3)\n",
    "\n",
    "print(multi,type(multi))\n",
    "print(sub,type(sub))"
   ]
  },
  {
   "cell_type": "code",
   "execution_count": 10,
   "metadata": {},
   "outputs": [
    {
     "name": "stdout",
     "output_type": "stream",
     "text": [
      "[18, 3] <class 'list'>\n"
     ]
    }
   ],
   "source": [
    "def multi_sub(number_1,number_2):\n",
    "    multi = number_1*number_2\n",
    "    sub = number_1 - number_2\n",
    "    summation = multi + sub\n",
    "    return [multi,sub]  # this automatically sends a tuple back.\n",
    "\n",
    "\n",
    "x = multi_sub(6,3)\n",
    "\n",
    "print(x,type(x))"
   ]
  },
  {
   "cell_type": "code",
   "execution_count": 11,
   "metadata": {},
   "outputs": [
    {
     "name": "stdout",
     "output_type": "stream",
     "text": [
      "{'multi': 18, 'sub': 3} <class 'dict'>\n"
     ]
    }
   ],
   "source": [
    "def multi_sub(number_1,number_2):\n",
    "    multi = number_1*number_2\n",
    "    sub = number_1 - number_2\n",
    "    summation = multi + sub\n",
    "    return {'multi':multi,'sub':sub}  # this automatically sends a tuple back.\n",
    "\n",
    "\n",
    "x = multi_sub(6,3)\n",
    "\n",
    "print(x,type(x))"
   ]
  },
  {
   "cell_type": "markdown",
   "metadata": {},
   "source": [
    "# Q 2 Check if a number is even or not with funCTION"
   ]
  },
  {
   "cell_type": "code",
   "execution_count": 12,
   "metadata": {},
   "outputs": [
    {
     "name": "stdout",
     "output_type": "stream",
     "text": [
      "True\n"
     ]
    }
   ],
   "source": [
    "def is_even(number):\n",
    "    if number%2 == 0:\n",
    "        return True\n",
    "    else:\n",
    "        return False\n",
    "    \n",
    "x = is_even(46)\n",
    "\n",
    "print(x)"
   ]
  },
  {
   "cell_type": "code",
   "execution_count": 13,
   "metadata": {},
   "outputs": [
    {
     "name": "stdout",
     "output_type": "stream",
     "text": [
      "1 False\n",
      "2 True\n",
      "3 False\n",
      "4 True\n",
      "5 False\n",
      "6 True\n",
      "7 False\n",
      "8 True\n",
      "9 False\n",
      "10 True\n"
     ]
    }
   ],
   "source": [
    "list_of_numbers = [1,2,3,4,5,6,7,8,9,10]\n",
    "\n",
    "for no in list_of_numbers:\n",
    "    print(no,is_even(no))"
   ]
  },
  {
   "cell_type": "code",
   "execution_count": 15,
   "metadata": {},
   "outputs": [
    {
     "name": "stdout",
     "output_type": "stream",
     "text": [
      "46 is even\n",
      "None\n"
     ]
    }
   ],
   "source": [
    "# WHAT HAPPENS WHEN WE DON'T USE A RETURN STATEMENT?\n",
    "\n",
    "def is_even(number):\n",
    "    if number%2 == 0:\n",
    "        print(number,'is even')\n",
    "    else:\n",
    "        print(number,'is odd')\n",
    "    \n",
    "x = is_even(46)\n",
    "\n",
    "print(x)"
   ]
  },
  {
   "cell_type": "code",
   "execution_count": 17,
   "metadata": {},
   "outputs": [
    {
     "name": "stdout",
     "output_type": "stream",
     "text": [
      "1 is odd\n",
      "2 is even\n",
      "3 is odd\n",
      "4 is even\n",
      "5 is odd\n",
      "6 is even\n",
      "7 is odd\n",
      "8 is even\n",
      "9 is odd\n",
      "10 is even\n"
     ]
    }
   ],
   "source": [
    "list_of_numbers = [1,2,3,4,5,6,7,8,9,10]\n",
    "\n",
    "for no in list_of_numbers:\n",
    "    is_even(no)"
   ]
  },
  {
   "cell_type": "code",
   "execution_count": 20,
   "metadata": {},
   "outputs": [
    {
     "name": "stdout",
     "output_type": "stream",
     "text": [
      "print is inside test fun 4\n",
      "None\n"
     ]
    }
   ],
   "source": [
    "## if we don't use a return , it automatically return None\n",
    "\n",
    "def test(a):\n",
    "    print('print is inside test fun',2*a)\n",
    "    return None ## this line is actually making no sense, because if you want to return None, don't use a return statement at all.\n",
    "\n",
    "x = test(2)\n",
    "\n",
    "print(x)\n",
    "    "
   ]
  },
  {
   "cell_type": "code",
   "execution_count": 21,
   "metadata": {},
   "outputs": [
    {
     "name": "stdout",
     "output_type": "stream",
     "text": [
      "print is inside test fun 4\n",
      "None\n"
     ]
    }
   ],
   "source": [
    "## if we don't use a return , it automatically return None\n",
    "\n",
    "def test(a):\n",
    "    print('print is inside test fun',2*a)\n",
    "\n",
    "x = test(2)\n",
    "\n",
    "print(x)"
   ]
  },
  {
   "cell_type": "markdown",
   "metadata": {},
   "source": [
    "## Q3 Write a function as follows:\n",
    "\n",
    "* Take two numbers\n",
    "* Check if first number is even\n",
    "* If first number is even, multiply them\n",
    "* Else divide them\n",
    "* Return the result"
   ]
  },
  {
   "cell_type": "code",
   "execution_count": 24,
   "metadata": {},
   "outputs": [
    {
     "name": "stdout",
     "output_type": "stream",
     "text": [
      "0.75\n"
     ]
    }
   ],
   "source": [
    "def check_multiply_divide(a,b):\n",
    "    if a%2==0:\n",
    "        result = a*b\n",
    "    else:\n",
    "        result = a/b\n",
    "    return result\n",
    "\n",
    "returned_value = check_multiply_divide(3,4)\n",
    "\n",
    "print(returned_value)"
   ]
  },
  {
   "cell_type": "markdown",
   "metadata": {},
   "source": [
    "## Q4 Conside Jack and Jill are 2 separate functions and a 3rd function Utility\n",
    "* Utility fun will take x as input number. This fun calls Jack and Jill fun one by one, total x no of times with x as the input\n",
    "  to them.\n",
    "* Jack increments x by 2\n",
    "* Jill decrements x by 1"
   ]
  },
  {
   "cell_type": "code",
   "execution_count": 27,
   "metadata": {},
   "outputs": [],
   "source": [
    "def Jack(x):\n",
    "    x+=2\n",
    "    return x\n",
    "\n",
    "def Jill(x):\n",
    "    x-=1\n",
    "    return x\n",
    "\n",
    "def Utility(x):\n",
    "    for i in range(int(x/2)):\n",
    "        y = Jack(x)\n",
    "        z = Jill(x)\n",
    "        print(y,z)\n",
    "    if x%2!=0:\n",
    "        y = Jack(x)\n",
    "        print(y)"
   ]
  },
  {
   "cell_type": "code",
   "execution_count": 29,
   "metadata": {},
   "outputs": [
    {
     "name": "stdout",
     "output_type": "stream",
     "text": [
      "13 10\n",
      "13 10\n",
      "13 10\n",
      "13 10\n",
      "13 10\n",
      "13\n"
     ]
    }
   ],
   "source": [
    "Utility(11)"
   ]
  },
  {
   "cell_type": "code",
   "execution_count": 25,
   "metadata": {},
   "outputs": [
    {
     "name": "stdout",
     "output_type": "stream",
     "text": [
      "we are in test_fun\n",
      "we did not take any data from the person who called us!!\n"
     ]
    }
   ],
   "source": [
    "## Can we have 0 parameters when defining a fun?\n",
    "\n",
    "def test_fun():\n",
    "    print('we are in test_fun')\n",
    "    print('we did not take any data from the person who called us!!')\n",
    "    \n",
    "test_fun()\n",
    "\n",
    "## YES WE CAN CREATE FUNCTIONS WITHOUT PARAMETERS."
   ]
  },
  {
   "cell_type": "markdown",
   "metadata": {},
   "source": [
    "## Q5 Write a function which takes an dictionary as input, and prints the key value pair one by one as follows:-\n",
    "\n",
    "### Input: test_dict = {'python':3,'java':8,'numpy':1}\n",
    "\n",
    "### Output: python --> 3\n",
    "        java --> 8\n",
    "        numpy --> 1"
   ]
  },
  {
   "cell_type": "code",
   "execution_count": 32,
   "metadata": {},
   "outputs": [
    {
     "name": "stdout",
     "output_type": "stream",
     "text": [
      "python --> 3\n",
      "java --> 8\n",
      "numpy --> 1\n"
     ]
    }
   ],
   "source": [
    "def print_key_value_of_dict(test_dict):\n",
    "    for i in test_dict:\n",
    "        print(i,'-->',test_dict[i])\n",
    "        \n",
    "print_key_value_of_dict({'python':3,'java':8,'numpy':1})"
   ]
  },
  {
   "cell_type": "code",
   "execution_count": 33,
   "metadata": {},
   "outputs": [],
   "source": [
    "# test_dict = {'python':3,'java':8,'numpy':1}\n",
    "\n",
    "# print(test_dict['python']) ==> 3"
   ]
  },
  {
   "cell_type": "code",
   "execution_count": 26,
   "metadata": {},
   "outputs": [],
   "source": [
    "## Q6 Write a fun, which takes a sentence. It is going to print all the vowels one by one which are present inside that sentence.\n",
    "\n",
    "### for example: \n",
    "# -- Input: 'Hi Bro!'\n",
    "# -- Output:  i  \n",
    "# --          o"
   ]
  },
  {
   "cell_type": "code",
   "execution_count": null,
   "metadata": {},
   "outputs": [],
   "source": [
    "## Q7 Write a fun, which tell if a sentence contains all the  26 alphabets.\n",
    "\n",
    "'the quicK brown foX jumPs over Lazy dog'\n",
    "\n",
    "DO IT BY 3 DIFFERENT METHODS:\n",
    "    1) BY USING DICTIONARIES\n",
    "    2) BY USING LIST\n",
    "    3) BY USING SET ( BUT HERE SET WILL NOT CONTAIN ALL THE ALPHABETS.)"
   ]
  },
  {
   "cell_type": "code",
   "execution_count": 37,
   "metadata": {},
   "outputs": [
    {
     "name": "stdout",
     "output_type": "stream",
     "text": [
      "i\n",
      "o\n"
     ]
    }
   ],
   "source": [
    "def print_vowels(sentence):\n",
    "    vowels_list = ['a','e','i','o','u','A','E','I','O','U']\n",
    "    for char in sentence:\n",
    "        if char in vowels_list:\n",
    "            print(char)\n",
    "        \n",
    "print_vowels('Hi Bro!')"
   ]
  },
  {
   "cell_type": "code",
   "execution_count": 35,
   "metadata": {},
   "outputs": [
    {
     "data": {
      "text/plain": [
       "True"
      ]
     },
     "execution_count": 35,
     "metadata": {},
     "output_type": "execute_result"
    }
   ],
   "source": [
    "# membership operator??\n",
    "\n",
    "\n",
    "'A' in ['a','e','i','o','u','A','E','I','O','U']"
   ]
  },
  {
   "cell_type": "code",
   "execution_count": 36,
   "metadata": {},
   "outputs": [
    {
     "data": {
      "text/plain": [
       "False"
      ]
     },
     "execution_count": 36,
     "metadata": {},
     "output_type": "execute_result"
    }
   ],
   "source": [
    "'B' in ['a','e','i','o','u','A','E','I','O','U']"
   ]
  },
  {
   "cell_type": "code",
   "execution_count": null,
   "metadata": {},
   "outputs": [],
   "source": []
  }
 ],
 "metadata": {
  "kernelspec": {
   "display_name": "Python 3",
   "language": "python",
   "name": "python3"
  },
  "language_info": {
   "codemirror_mode": {
    "name": "ipython",
    "version": 3
   },
   "file_extension": ".py",
   "mimetype": "text/x-python",
   "name": "python",
   "nbconvert_exporter": "python",
   "pygments_lexer": "ipython3",
   "version": "3.8.3"
  }
 },
 "nbformat": 4,
 "nbformat_minor": 4
}
