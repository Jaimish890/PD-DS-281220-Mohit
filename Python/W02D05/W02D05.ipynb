{
 "cells": [
  {
   "cell_type": "code",
   "execution_count": 1,
   "metadata": {},
   "outputs": [
    {
     "name": "stdout",
     "output_type": "stream",
     "text": [
      "apple\n",
      "kiwi\n",
      "oranges\n",
      "[1, 2, 3]\n",
      "(3, 4)\n",
      "{'python': 3, 'java': 8}\n",
      "None\n",
      "123\n",
      "34.56\n"
     ]
    }
   ],
   "source": [
    "# How do you use for loop on an iterable?\n",
    "\n",
    "list_of_things = ['apple','kiwi','oranges',[1,2,3],(3,4),{'python':3,'java':8},None,123,34.56]\n",
    "\n",
    "for item in list_of_things:\n",
    "    print(item)"
   ]
  },
  {
   "cell_type": "code",
   "execution_count": 2,
   "metadata": {},
   "outputs": [
    {
     "name": "stdout",
     "output_type": "stream",
     "text": [
      "4\n",
      "5\n",
      "6\n",
      "7\n",
      "8\n",
      "9\n",
      "10\n"
     ]
    }
   ],
   "source": [
    "for i in range(4,11):\n",
    "    print(i)"
   ]
  },
  {
   "cell_type": "code",
   "execution_count": null,
   "metadata": {},
   "outputs": [],
   "source": [
    "What if I want to print from 5 to 15 and with 3 number gap in between. 5,8,11..."
   ]
  },
  {
   "cell_type": "code",
   "execution_count": 3,
   "metadata": {},
   "outputs": [
    {
     "name": "stdout",
     "output_type": "stream",
     "text": [
      "5\n",
      "8\n",
      "11\n",
      "14\n"
     ]
    }
   ],
   "source": [
    "for i in range(5,16,3):\n",
    "    print(i)"
   ]
  },
  {
   "cell_type": "code",
   "execution_count": null,
   "metadata": {},
   "outputs": [],
   "source": [
    "Syntax of range: range(start,stop,jump)\n",
    "\n",
    "not including the stop."
   ]
  },
  {
   "cell_type": "code",
   "execution_count": null,
   "metadata": {},
   "outputs": [],
   "source": [
    "Q1.\n",
    "\n",
    "x = 'happy'\n",
    "y = 'happy'\n",
    "\n",
    "print('both happy')\n",
    "\n",
    "else\n",
    "print('both are not happy')"
   ]
  },
  {
   "cell_type": "code",
   "execution_count": 5,
   "metadata": {},
   "outputs": [
    {
     "name": "stdout",
     "output_type": "stream",
     "text": [
      "both happy\n"
     ]
    }
   ],
   "source": [
    "x = 'sad'\n",
    "y = 'sad'\n",
    "\n",
    "if x==y:\n",
    "    print('both happy')"
   ]
  },
  {
   "cell_type": "code",
   "execution_count": 9,
   "metadata": {},
   "outputs": [
    {
     "name": "stdout",
     "output_type": "stream",
     "text": [
      "both happy\n"
     ]
    }
   ],
   "source": [
    "x = 'happy'\n",
    "y = 'happy'\n",
    "\n",
    "if x==\"happy\" and y==\"happy\":\n",
    "    print('both happy')\n",
    "else:\n",
    "    print(\"both are not happy\")\n"
   ]
  },
  {
   "cell_type": "code",
   "execution_count": 4,
   "metadata": {},
   "outputs": [
    {
     "name": "stdout",
     "output_type": "stream",
     "text": [
      "You: Can we Date??\n",
      "X:   yes\n",
      "You: See you at LOC(LOVE OVER COFFEE) near your home\n",
      "X:   Yeah!! Sure (Heart Emojis)\n",
      "You: Kissing Emojis\n"
     ]
    }
   ],
   "source": [
    "print(\"You:\",\"Can we Date??\")\n",
    "reply = 'yes'\n",
    "print(\"X:  \",reply)\n",
    "if reply == 'yes':\n",
    "    print(\"You: See you at LOC(LOVE OVER COFFEE) near your home\")\n",
    "    reply2 = 'Yeah!! Sure (Heart Emojis)'\n",
    "    print(\"X:  \",reply2)\n",
    "    if reply2 == 'Yeah!! Sure (Heart Emojis)':   ## this is nested if inside the earlier if.\n",
    "        print(\"You: Kissing Emojis\")\n",
    "elif reply == 'maybe':\n",
    "    print(\"take your time and say ........ Yes!! :') :')\")\n",
    "elif reply == 'i like you as a friend':\n",
    "    print(\"Cool!! let's go to this new movie together\")\n",
    "else:\n",
    "    print(\"heheheheh!! I was just kidding!!\")"
   ]
  },
  {
   "cell_type": "code",
   "execution_count": null,
   "metadata": {},
   "outputs": [],
   "source": [
    "# nested if\n",
    "\n",
    "if condition1:\n",
    "    statement 1\n",
    "    if condition2:\n",
    "        stetement 2\n",
    "        if condition 3:\n",
    "            statement3\n",
    "\n",
    "            \n",
    "These are known as Nested if statements.\n",
    "\n",
    "When the condition1 is True, it enters into the block and check for condition2\n",
    "\n",
    "Only when the contion2 is True, it enters into that block and check for condtion3."
   ]
  },
  {
   "cell_type": "code",
   "execution_count": null,
   "metadata": {},
   "outputs": [],
   "source": [
    "## We are using nested if-else\n",
    "\n",
    "if condition1:\n",
    "    print('statement 1')\n",
    "    if condition2:\n",
    "        print('stetement 2')\n",
    "        if condition 3:\n",
    "            print('statement3')\n",
    "        else:\n",
    "            print('statement else3')\n",
    "    else:\n",
    "        print('statementelse2')\n",
    "else:\n",
    "    print('statementelse1')"
   ]
  },
  {
   "cell_type": "code",
   "execution_count": null,
   "metadata": {},
   "outputs": [],
   "source": [
    "## We are using nested if-else\n",
    "\n",
    "if condition1:\n",
    "    print('statement 1')\n",
    "    if condition2:\n",
    "        print('stetement 2')\n",
    "        if condition 3:\n",
    "            print('statement3')\n",
    "        elif condition4:\n",
    "            print('statement4')\n",
    "        elif condition5:\n",
    "            print('statement5')\n",
    "        else:\n",
    "            print('statement else3')\n",
    "    elif condition6:\n",
    "        print('statement6')\n",
    "    else:\n",
    "        print('statementelse2')\n",
    "else:\n",
    "    print('statementelse1')"
   ]
  },
  {
   "cell_type": "code",
   "execution_count": null,
   "metadata": {},
   "outputs": [],
   "source": [
    "Q1:\n",
    "if the profession is doctor check if the name starts with M print 'doctor M' else print 'doctor'\n",
    "\n",
    "if the professtion is engineer, check if the gender is M, if yes print 'engineer bhaiyya'else print 'engineer didi'\n",
    "\n",
    "if the profeesion is actor , check if the last char of name is h, if yes print 'actor' or print 'lier'\n",
    "\n",
    "if the profession is none of the above print('Wow what do you actually do??')"
   ]
  },
  {
   "cell_type": "code",
   "execution_count": 27,
   "metadata": {},
   "outputs": [],
   "source": [
    "persons = [{'Name':'Mohit','Gender':'M','Profession':'teacher'},{'Name':'Kunal','Gender':'M','Profession':'engineer'},\n",
    "           {'Name':'Rashmi','Gender':'F','Profession':'doctor'}]"
   ]
  },
  {
   "cell_type": "code",
   "execution_count": null,
   "metadata": {},
   "outputs": [],
   "source": [
    "for var in iterable:\n",
    "    play around with the var.\n",
    "    \n",
    "var here is just a name you choose."
   ]
  },
  {
   "cell_type": "code",
   "execution_count": 15,
   "metadata": {},
   "outputs": [
    {
     "name": "stdout",
     "output_type": "stream",
     "text": [
      "person is {'Name': 'Mohit', 'Gender': 'M', 'Profession': 'teacher'}\n",
      "person is {'Name': 'Kunal', 'Gender': 'M', 'Profession': 'engineer'}\n",
      "person is {'Name': 'Rashmi', 'Gender': 'F', 'Profession': 'chef'}\n"
     ]
    }
   ],
   "source": [
    "for person in persons:\n",
    "    print('person is',person)"
   ]
  },
  {
   "cell_type": "code",
   "execution_count": 16,
   "metadata": {},
   "outputs": [
    {
     "name": "stdout",
     "output_type": "stream",
     "text": [
      "person is Mohit\n",
      "person is Kunal\n",
      "person is Rashmi\n"
     ]
    }
   ],
   "source": [
    "for person in persons:\n",
    "    print('person is',person['Name'])"
   ]
  },
  {
   "cell_type": "code",
   "execution_count": 17,
   "metadata": {},
   "outputs": [
    {
     "name": "stdout",
     "output_type": "stream",
     "text": [
      "person is teacher\n",
      "person is engineer\n",
      "person is chef\n"
     ]
    }
   ],
   "source": [
    "for person in persons:\n",
    "    print('person is',person['Profession'])"
   ]
  },
  {
   "cell_type": "code",
   "execution_count": 18,
   "metadata": {},
   "outputs": [
    {
     "name": "stdout",
     "output_type": "stream",
     "text": [
      "Mohit  is  teacher\n",
      "Kunal  is  engineer\n",
      "Rashmi  is  chef\n"
     ]
    }
   ],
   "source": [
    "for person in persons:\n",
    "    print(person['Name'],' is ',person['Profession'])"
   ]
  },
  {
   "cell_type": "code",
   "execution_count": 20,
   "metadata": {},
   "outputs": [
    {
     "name": "stdout",
     "output_type": "stream",
     "text": [
      "Mohit  is  teacher  and the gender is M\n",
      "Kunal  is  engineer  and the gender is M\n",
      "Rashmi  is  chef  and the gender is F\n"
     ]
    }
   ],
   "source": [
    "for person in persons:\n",
    "    print(person['Name'],' is ',person['Profession'],' and the gender is',person['Gender'])"
   ]
  },
  {
   "cell_type": "code",
   "execution_count": 29,
   "metadata": {},
   "outputs": [],
   "source": [
    "persons = [{'Name':'Mohit','Gender':'M','Profession':'teacher'},\n",
    "           {'Name':'Kunal','Gender':'M','Profession':'engineer'},\n",
    "           {'Name':'Rashmi','Gender':'F','Profession':'doctor'},\n",
    "           {'Name':'MalalaYusuf','Gender':'F','Profession':'doctor'}]"
   ]
  },
  {
   "cell_type": "code",
   "execution_count": 30,
   "metadata": {},
   "outputs": [
    {
     "name": "stdout",
     "output_type": "stream",
     "text": [
      "Wow what do you actually do??\n",
      "engineer bhaiyya\n",
      "doctor\n",
      "doctor M\n"
     ]
    }
   ],
   "source": [
    "for person in persons:\n",
    "    if person['Profession'] == 'doctor':\n",
    "        if person['Name'][0] == 'M':\n",
    "            print('doctor M')\n",
    "        else:\n",
    "            print('doctor')\n",
    "    elif person['Profession'] == 'engineer':\n",
    "        if person['Gender'] == 'M':\n",
    "            print('engineer bhaiyya')\n",
    "        else:\n",
    "            print('engineer didi')\n",
    "    elif person['Profession'] == 'actor':\n",
    "        if person['Name'][-1] == 'h':\n",
    "            print('actor')\n",
    "        else:\n",
    "            print('lier')\n",
    "    else:\n",
    "        print('Wow what do you actually do??')"
   ]
  },
  {
   "cell_type": "code",
   "execution_count": 25,
   "metadata": {},
   "outputs": [
    {
     "name": "stdout",
     "output_type": "stream",
     "text": [
      "M\n",
      "t\n"
     ]
    }
   ],
   "source": [
    "string1 = 'Mohit'\n",
    "\n",
    "print(string1[0])\n",
    "\n",
    "print(string1[-1])"
   ]
  },
  {
   "cell_type": "code",
   "execution_count": 24,
   "metadata": {},
   "outputs": [],
   "source": [
    "x = 3  ## assigning value"
   ]
  },
  {
   "cell_type": "code",
   "execution_count": 23,
   "metadata": {},
   "outputs": [
    {
     "data": {
      "text/plain": [
       "True"
      ]
     },
     "execution_count": 23,
     "metadata": {},
     "output_type": "execute_result"
    }
   ],
   "source": [
    "x == 3 ## comparison"
   ]
  },
  {
   "cell_type": "code",
   "execution_count": null,
   "metadata": {},
   "outputs": [],
   "source": [
    "NESTED FOR LOOPS:"
   ]
  },
  {
   "cell_type": "code",
   "execution_count": 37,
   "metadata": {},
   "outputs": [
    {
     "name": "stdout",
     "output_type": "stream",
     "text": [
      "(1, 2, 3)\n",
      "(4, 5, 6, 7)\n",
      "(8, 9)\n",
      "(10, 101)\n",
      "(11, 12, 13, 14)\n"
     ]
    }
   ],
   "source": [
    "element_list = [(1,2,3),(4,5,6,7),(8,9),(10,101),(11,12,13,14)]\n",
    "\n",
    "for each_tuple in element_list:\n",
    "    print(each_tuple)"
   ]
  },
  {
   "cell_type": "code",
   "execution_count": 38,
   "metadata": {},
   "outputs": [
    {
     "name": "stdout",
     "output_type": "stream",
     "text": [
      "1\n",
      "2\n",
      "3\n",
      "4\n",
      "5\n",
      "6\n",
      "7\n",
      "8\n",
      "9\n",
      "10\n",
      "101\n",
      "11\n",
      "12\n",
      "13\n",
      "14\n"
     ]
    }
   ],
   "source": [
    "element_list = [(1,2,3),(4,5,6,7),(8,9),(10,101),(11,12,13,14)]\n",
    "for each_tuple in element_list:\n",
    "    for each_item in each_tuple:\n",
    "        print(each_item)"
   ]
  },
  {
   "cell_type": "code",
   "execution_count": null,
   "metadata": {},
   "outputs": [],
   "source": [
    "Q Create a Program to create a pattern like this:\n",
    "*\n",
    "* *\n",
    "* * *\n",
    "* * * *\n",
    "* * * * *\n",
    "\n",
    "use for loop to do this."
   ]
  }
 ],
 "metadata": {
  "kernelspec": {
   "display_name": "Python 3",
   "language": "python",
   "name": "python3"
  },
  "language_info": {
   "codemirror_mode": {
    "name": "ipython",
    "version": 3
   },
   "file_extension": ".py",
   "mimetype": "text/x-python",
   "name": "python",
   "nbconvert_exporter": "python",
   "pygments_lexer": "ipython3",
   "version": "3.8.3"
  }
 },
 "nbformat": 4,
 "nbformat_minor": 4
}
