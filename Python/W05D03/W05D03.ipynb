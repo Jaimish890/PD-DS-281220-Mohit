{
 "cells": [
  {
   "cell_type": "code",
   "execution_count": null,
   "metadata": {},
   "outputs": [],
   "source": [
    "Module?\n",
    "Python file, Python inside that.\n",
    "\n",
    "# Can we use x.py into another python file?\n",
    "\n",
    "# How do we do that?\n",
    "# import x\n",
    "# use that.\n",
    "\n",
    "functions inside x => apple\n",
    "\n",
    "import x\n",
    "Vs \n",
    "from x import apple\n",
    "\n",
    "\n",
    "x.apple()\n",
    "Vs\n",
    "apple()\n",
    "\n",
    "fun => apple, mango\n",
    "\n",
    "from x import *"
   ]
  },
  {
   "cell_type": "markdown",
   "metadata": {},
   "source": [
    "# Q1) Create a module named apple write a function inside it which takes any number of arguments and return sum of the result.import it inside the jupyter notebook you are using and use that function \n",
    "\n",
    "PSEUDOCODE:\n",
    "    1. CREATE A FILE NAMED APPLE.PY\n",
    "    2. WRITE A FUNCTION NAME SUMMATION AND USE *ARGS THING TO TAKE ANY NUMBER OF ARGUMENTS.\n",
    "    3. USE THE ARGS TUPLE AND SUM EVERYTHING INSIDE IT.\n",
    "    4. RETURN THE SUM DONE."
   ]
  },
  {
   "cell_type": "markdown",
   "metadata": {},
   "source": [
    "## FILE OPERATIONS"
   ]
  },
  {
   "cell_type": "code",
   "execution_count": null,
   "metadata": {},
   "outputs": [],
   "source": [
    "-> Opening a file, creating a new file, Saving , deleting , editing, writing, reading."
   ]
  },
  {
   "cell_type": "code",
   "execution_count": 1,
   "metadata": {},
   "outputs": [
    {
     "name": "stdout",
     "output_type": "stream",
     "text": [
      "['apple', 1, 2, 3, 'mango', 'kiwi']\n"
     ]
    }
   ],
   "source": [
    "list1 = ['apple',1,2,3,'mango']\n",
    "\n",
    "list1.append('kiwi')\n",
    "\n",
    "print(list1)"
   ]
  },
  {
   "cell_type": "code",
   "execution_count": null,
   "metadata": {},
   "outputs": [],
   "source": [
    "## file pointer => Handles operations by pointing at a postion in the file.\n",
    "\n",
    "## Modes of file:\n",
    "    read\n",
    "    write\n",
    "    appending\n",
    "\n",
    "w+ mode => opens a file and overwrite everything. If file not present , create a file."
   ]
  },
  {
   "cell_type": "code",
   "execution_count": 2,
   "metadata": {},
   "outputs": [],
   "source": [
    "fp = open('sample.txt','w+')"
   ]
  },
  {
   "cell_type": "code",
   "execution_count": 3,
   "metadata": {},
   "outputs": [
    {
     "name": "stdout",
     "output_type": "stream",
     "text": [
      "<_io.TextIOWrapper name='sample.txt' mode='w+' encoding='cp1252'>\n"
     ]
    }
   ],
   "source": [
    "print(fp)"
   ]
  },
  {
   "cell_type": "code",
   "execution_count": 4,
   "metadata": {},
   "outputs": [
    {
     "name": "stdout",
     "output_type": "stream",
     "text": [
      "<class '_io.TextIOWrapper'>\n"
     ]
    }
   ],
   "source": [
    "print(type(fp))"
   ]
  },
  {
   "cell_type": "code",
   "execution_count": 5,
   "metadata": {},
   "outputs": [
    {
     "data": {
      "text/plain": [
       "37"
      ]
     },
     "execution_count": 5,
     "metadata": {},
     "output_type": "execute_result"
    }
   ],
   "source": [
    "fp.write('This line should appear in sample.txt')"
   ]
  },
  {
   "cell_type": "code",
   "execution_count": 6,
   "metadata": {},
   "outputs": [
    {
     "data": {
      "text/plain": [
       "37"
      ]
     },
     "execution_count": 6,
     "metadata": {},
     "output_type": "execute_result"
    }
   ],
   "source": [
    "len('This line should appear in sample.txt')"
   ]
  },
  {
   "cell_type": "code",
   "execution_count": 7,
   "metadata": {},
   "outputs": [
    {
     "data": {
      "text/plain": [
       "27"
      ]
     },
     "execution_count": 7,
     "metadata": {},
     "output_type": "execute_result"
    }
   ],
   "source": [
    "fp.write('Will it be the second line?')"
   ]
  },
  {
   "cell_type": "code",
   "execution_count": 8,
   "metadata": {},
   "outputs": [
    {
     "data": {
      "text/plain": [
       "27"
      ]
     },
     "execution_count": 8,
     "metadata": {},
     "output_type": "execute_result"
    }
   ],
   "source": [
    "len('Will it be the second line?')"
   ]
  },
  {
   "cell_type": "code",
   "execution_count": null,
   "metadata": {},
   "outputs": [],
   "source": [
    "'\\n' => New Line."
   ]
  },
  {
   "cell_type": "code",
   "execution_count": 17,
   "metadata": {},
   "outputs": [
    {
     "name": "stdout",
     "output_type": "stream",
     "text": [
      "hello world***********I am 2nd line$$$$$$$$$$"
     ]
    }
   ],
   "source": [
    "print('hello world',end='***********') ## default behaviour of print function.\n",
    "print('I am 2nd line',end=\"$$$$$$$$$$\")"
   ]
  },
  {
   "cell_type": "code",
   "execution_count": 9,
   "metadata": {},
   "outputs": [
    {
     "data": {
      "text/plain": [
       "34"
      ]
     },
     "execution_count": 9,
     "metadata": {},
     "output_type": "execute_result"
    }
   ],
   "source": [
    "fp.write('\\n Will it be third line or Second?')"
   ]
  },
  {
   "cell_type": "code",
   "execution_count": 10,
   "metadata": {},
   "outputs": [],
   "source": [
    "# The operations work only appears after closing the file via file pointer.\n",
    "# Saving happens after doing the fp.close()"
   ]
  },
  {
   "cell_type": "code",
   "execution_count": 11,
   "metadata": {},
   "outputs": [],
   "source": [
    "fp.close()"
   ]
  },
  {
   "cell_type": "code",
   "execution_count": null,
   "metadata": {},
   "outputs": [],
   "source": [
    "for i in range(1,10):\n",
    "    print(i)\n",
    "    i+=1\n",
    "    print(i+3)"
   ]
  },
  {
   "cell_type": "code",
   "execution_count": 18,
   "metadata": {},
   "outputs": [
    {
     "name": "stdout",
     "output_type": "stream",
     "text": [
      "absent list ['tiwari']\n",
      "present list ['jaimish', 'ranjan']\n"
     ]
    }
   ],
   "source": [
    "list_of_students = ['jaimish','tiwari','ranjan']\n",
    "\n",
    "absent = []\n",
    "present = []\n",
    "\n",
    "def roll_call(name,attendance = 'absent'):\n",
    "    if attendance == 'absent':\n",
    "        absent.append(name)\n",
    "    else:\n",
    "        present.append(name)\n",
    "        \n",
    "for i in list_of_students:\n",
    "    if 'j' in i:\n",
    "        roll_call(i,'yES mAM')\n",
    "    else:\n",
    "        roll_call(i)\n",
    "        \n",
    "print('absent list',absent)\n",
    "print('present list',present)"
   ]
  },
  {
   "cell_type": "code",
   "execution_count": null,
   "metadata": {},
   "outputs": [],
   "source": [
    "HACKERRANK.\n",
    "LEETCODE.\n",
    "\n"
   ]
  }
 ],
 "metadata": {
  "kernelspec": {
   "display_name": "Python 3",
   "language": "python",
   "name": "python3"
  },
  "language_info": {
   "codemirror_mode": {
    "name": "ipython",
    "version": 3
   },
   "file_extension": ".py",
   "mimetype": "text/x-python",
   "name": "python",
   "nbconvert_exporter": "python",
   "pygments_lexer": "ipython3",
   "version": "3.8.3"
  }
 },
 "nbformat": 4,
 "nbformat_minor": 4
}
