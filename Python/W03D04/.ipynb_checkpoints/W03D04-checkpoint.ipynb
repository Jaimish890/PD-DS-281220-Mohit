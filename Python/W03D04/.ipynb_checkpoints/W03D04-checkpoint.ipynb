{
 "cells": [
  {
   "cell_type": "markdown",
   "metadata": {},
   "source": [
    "# LISTS"
   ]
  },
  {
   "cell_type": "code",
   "execution_count": null,
   "metadata": {},
   "outputs": [],
   "source": [
    "append,extend, +"
   ]
  },
  {
   "cell_type": "code",
   "execution_count": 1,
   "metadata": {},
   "outputs": [],
   "source": [
    "# Q1.\n",
    "\n",
    "l1 = [[1,2,3],[4,5,6]]  # nested lists. list of lists.\n",
    "\n",
    "l2 = []\n",
    "\n",
    "# finally l2 = [1,2,3,4,5,6]"
   ]
  },
  {
   "cell_type": "code",
   "execution_count": 5,
   "metadata": {},
   "outputs": [
    {
     "name": "stdout",
     "output_type": "stream",
     "text": [
      "[1, 2, 3]\n",
      "[4, 5, 6]\n"
     ]
    }
   ],
   "source": [
    "for list1 in l1:\n",
    "    print(list1)"
   ]
  },
  {
   "cell_type": "code",
   "execution_count": 3,
   "metadata": {},
   "outputs": [
    {
     "name": "stdout",
     "output_type": "stream",
     "text": [
      "1\n",
      "2\n",
      "3\n",
      "4\n",
      "5\n",
      "6\n"
     ]
    }
   ],
   "source": [
    "for list1 in l1:\n",
    "    for value in list1:\n",
    "        l2.append(value)"
   ]
  },
  {
   "cell_type": "code",
   "execution_count": 4,
   "metadata": {},
   "outputs": [
    {
     "data": {
      "text/plain": [
       "[1, 2, 3, 4, 5, 6]"
      ]
     },
     "execution_count": 4,
     "metadata": {},
     "output_type": "execute_result"
    }
   ],
   "source": [
    "extend ?"
   ]
  },
  {
   "cell_type": "code",
   "execution_count": null,
   "metadata": {},
   "outputs": [],
   "source": [
    "[1,2,3] [4,5,6] ?"
   ]
  },
  {
   "cell_type": "code",
   "execution_count": 7,
   "metadata": {},
   "outputs": [],
   "source": [
    "l2 = []\n",
    "for list1 in l1:\n",
    "    l2.extend(list1)"
   ]
  },
  {
   "cell_type": "code",
   "execution_count": 8,
   "metadata": {},
   "outputs": [
    {
     "data": {
      "text/plain": [
       "[1, 2, 3, 4, 5, 6]"
      ]
     },
     "execution_count": 8,
     "metadata": {},
     "output_type": "execute_result"
    }
   ],
   "source": [
    "l2"
   ]
  },
  {
   "cell_type": "code",
   "execution_count": 9,
   "metadata": {},
   "outputs": [],
   "source": [
    "# using +\n",
    "\n",
    "l2 = []\n",
    "for list1 in l1:\n",
    "    l2 = l2 + list1"
   ]
  },
  {
   "cell_type": "code",
   "execution_count": 10,
   "metadata": {},
   "outputs": [
    {
     "data": {
      "text/plain": [
       "[1, 2, 3, 4, 5, 6]"
      ]
     },
     "execution_count": 10,
     "metadata": {},
     "output_type": "execute_result"
    }
   ],
   "source": [
    "l2"
   ]
  },
  {
   "cell_type": "code",
   "execution_count": 11,
   "metadata": {},
   "outputs": [],
   "source": [
    "# Q2.\n",
    "\n",
    "matrix1 = [[1,2,3],[4,5,6],[7,8,9]]\n",
    "\n",
    "matrix2 = [[100,200,300],[400,500,600],[700,800,900]]\n",
    "\n",
    "# matrix3 = [[101,202,303],[404,505,606],[707,808,909]]"
   ]
  },
  {
   "cell_type": "code",
   "execution_count": 14,
   "metadata": {},
   "outputs": [
    {
     "name": "stdout",
     "output_type": "stream",
     "text": [
      "[101, 202, 303]\n",
      "[404, 505, 606]\n",
      "[707, 808, 909]\n"
     ]
    }
   ],
   "source": [
    "matrix1 = [[1,2,3],[4,5,6],[7,8,9]]\n",
    "matrix2 = [[100,200,300],[400,500,600],[700,800,900]]\n",
    "result = [[0,0,0],[0,0,0],[0,0,0]]\n",
    "for i in range(len(matrix1)):    \n",
    "    for j in range(len(matrix1[0])): \n",
    "        result[i][j] = matrix1[i][j] + matrix2[i][j] \n",
    "for r in result:\n",
    "    print(r)"
   ]
  },
  {
   "cell_type": "code",
   "execution_count": 19,
   "metadata": {},
   "outputs": [
    {
     "data": {
      "text/plain": [
       "[[101, 202, 303], [404, 505, 606], [707, 808, 909]]"
      ]
     },
     "execution_count": 19,
     "metadata": {},
     "output_type": "execute_result"
    }
   ],
   "source": [
    "mat= [[1,2,3],[4,5,6],[7,8,9]]\n",
    "mat2 = [[100,200,300],[400,500,600],[700,800,900]]\n",
    "mat3 = [[0,0,0],[0,0,0],[0,0,0]]\n",
    "\n",
    "for i in range(len(mat)):\n",
    "    for j in range(len(mat[0])):\n",
    "        mat3[i][j] = mat[i][j] + mat2[i][j]\n",
    "\n",
    "mat3"
   ]
  },
  {
   "cell_type": "code",
   "execution_count": 21,
   "metadata": {},
   "outputs": [
    {
     "name": "stdout",
     "output_type": "stream",
     "text": [
      "[[101, 202, 303], [404, 505, 606], [707, 808, 909]]\n"
     ]
    }
   ],
   "source": [
    "X = [[1,2,3],[4,5,6],[7,8,9]]\n",
    "Y = [[100,200,300],[400,500,600],[700,800,900]]\n",
    "result = [[0,0,0],[0,0,0],[0,0,0]]\n",
    "\n",
    "for i in range(len(X)):\n",
    "    for j in range(len(X[0])):\n",
    "        result[i][j] = X[i][j] + Y[i][j]\n",
    "print(result)"
   ]
  },
  {
   "cell_type": "code",
   "execution_count": null,
   "metadata": {},
   "outputs": [],
   "source": [
    "# this code is not pythonic"
   ]
  },
  {
   "cell_type": "code",
   "execution_count": null,
   "metadata": {},
   "outputs": [],
   "source": [
    "#pythonic way"
   ]
  },
  {
   "cell_type": "code",
   "execution_count": 23,
   "metadata": {},
   "outputs": [
    {
     "name": "stdout",
     "output_type": "stream",
     "text": [
      "[[101, 202, 303]]\n"
     ]
    }
   ],
   "source": [
    "l1 = [1,2,3]\n",
    "l2 = [100,200,300]\n",
    "\n",
    "matrix3 = []\n",
    "temp = []\n",
    "\n",
    "temp.append(l1[0]+l2[0])\n",
    "temp.append(l1[1]+l2[1])\n",
    "temp.append(l1[2]+l2[2])\n",
    "\n",
    "\n",
    "matrix3.append(temp)\n",
    "print(matrix3)"
   ]
  },
  {
   "cell_type": "code",
   "execution_count": 24,
   "metadata": {},
   "outputs": [
    {
     "name": "stdout",
     "output_type": "stream",
     "text": [
      "[[101, 202, 303], [404, 505, 606], [707, 808, 909]]\n"
     ]
    }
   ],
   "source": [
    "matrix1 = [[1,2,3],[4,5,6],[7,8,9]]\n",
    "matrix2 = [[100,200,300],[400,500,600],[700,800,900]]\n",
    "matrix3 = []\n",
    "\n",
    "for row_index in range(len(matrix1)):\n",
    "    temp = []\n",
    "    for col_index in range(len(matrix1[0])):\n",
    "        temp.append(matrix1[row_index][col_index] + matrix2[row_index][col_index])\n",
    "    matrix3.append(temp)\n",
    "\n",
    "print(matrix3)"
   ]
  },
  {
   "cell_type": "markdown",
   "metadata": {},
   "source": [
    "## insert "
   ]
  },
  {
   "cell_type": "code",
   "execution_count": 25,
   "metadata": {},
   "outputs": [
    {
     "name": "stdout",
     "output_type": "stream",
     "text": [
      "[100, 24, 200, 300]\n"
     ]
    }
   ],
   "source": [
    "l = [100,200,300]\n",
    "\n",
    "# l = [100,24,200,300]\n",
    "\n",
    "l.insert(1,24)\n",
    "\n",
    "print(l)"
   ]
  },
  {
   "cell_type": "code",
   "execution_count": 26,
   "metadata": {},
   "outputs": [
    {
     "name": "stdout",
     "output_type": "stream",
     "text": [
      "[100, 24, 200, 48, 300]\n"
     ]
    }
   ],
   "source": [
    "# [100, 24, 200,48, 300]\n",
    "l.insert(3,48)\n",
    "\n",
    "print(l)"
   ]
  },
  {
   "cell_type": "code",
   "execution_count": 29,
   "metadata": {},
   "outputs": [],
   "source": [
    "# Q3. Pleaseeeeeeeeee use insert to solve this.\n",
    "l1 = [1,3,5,7,9]\n",
    "l2 = [2,4,6,8,10]\n",
    "\n",
    "# l3 = [1, 2, 3, 4, 5, 6, 7, 8, 9, 10]\n",
    "\n",
    "## Homework Question."
   ]
  },
  {
   "cell_type": "markdown",
   "metadata": {},
   "source": [
    "## deleting operations."
   ]
  },
  {
   "cell_type": "code",
   "execution_count": null,
   "metadata": {},
   "outputs": [],
   "source": [
    "1. pop => index, by default remove the last element, returns the element which got popped.\n",
    "\n",
    "2. remove => value, it will not return anything.\n",
    "\n",
    "3. clear => removes all the elements, empties the list.\n",
    "\n",
    "4. del => del the ref as well as the name of the list."
   ]
  },
  {
   "cell_type": "code",
   "execution_count": null,
   "metadata": {},
   "outputs": [],
   "source": [
    "list1 = [-1,-2,-3]\n",
    "\n",
    "x = list1.pop(0)\n",
    "\n",
    "\n",
    "# del list1"
   ]
  },
  {
   "cell_type": "markdown",
   "metadata": {},
   "source": [
    "## tuples"
   ]
  },
  {
   "cell_type": "code",
   "execution_count": null,
   "metadata": {},
   "outputs": [],
   "source": [
    "=> similar to list but they are immutable.\n",
    "=> they can also store anything like list (hetero)\n",
    "\n",
    "t1 = ([1,2,3],{'python':3,'java':8})\n",
    "\n",
    "=> iterable\n",
    "\n",
    "=> ordered: indexing and slicing\n",
    "    \n",
    "=> round brackets ()"
   ]
  },
  {
   "cell_type": "code",
   "execution_count": 31,
   "metadata": {},
   "outputs": [],
   "source": [
    "tuple1 = (1,2,3,4,5)"
   ]
  },
  {
   "cell_type": "code",
   "execution_count": 32,
   "metadata": {},
   "outputs": [
    {
     "data": {
      "text/plain": [
       "4"
      ]
     },
     "execution_count": 32,
     "metadata": {},
     "output_type": "execute_result"
    }
   ],
   "source": [
    "tuple1[3]"
   ]
  },
  {
   "cell_type": "code",
   "execution_count": 33,
   "metadata": {},
   "outputs": [
    {
     "data": {
      "text/plain": [
       "tuple"
      ]
     },
     "execution_count": 33,
     "metadata": {},
     "output_type": "execute_result"
    }
   ],
   "source": [
    "type(tuple1)"
   ]
  },
  {
   "cell_type": "code",
   "execution_count": null,
   "metadata": {},
   "outputs": [],
   "source": [
    "slicing in tuples (similar to list and strings.)"
   ]
  },
  {
   "cell_type": "code",
   "execution_count": 38,
   "metadata": {},
   "outputs": [
    {
     "data": {
      "text/plain": [
       "(2, 4)"
      ]
     },
     "execution_count": 38,
     "metadata": {},
     "output_type": "execute_result"
    }
   ],
   "source": [
    "tuple1[1:4:2]"
   ]
  },
  {
   "cell_type": "code",
   "execution_count": null,
   "metadata": {},
   "outputs": [],
   "source": [
    "# how can i reverse a tuple using slicing?"
   ]
  },
  {
   "cell_type": "code",
   "execution_count": 39,
   "metadata": {},
   "outputs": [
    {
     "data": {
      "text/plain": [
       "(5, 4, 3, 2, 1)"
      ]
     },
     "execution_count": 39,
     "metadata": {},
     "output_type": "execute_result"
    }
   ],
   "source": [
    "tuple1[::-1]"
   ]
  },
  {
   "cell_type": "code",
   "execution_count": null,
   "metadata": {},
   "outputs": [],
   "source": [
    "(1,2,3)"
   ]
  },
  {
   "cell_type": "code",
   "execution_count": 37,
   "metadata": {},
   "outputs": [
    {
     "data": {
      "text/plain": [
       "(2,)"
      ]
     },
     "execution_count": 37,
     "metadata": {},
     "output_type": "execute_result"
    }
   ],
   "source": [
    "(2,)"
   ]
  },
  {
   "cell_type": "code",
   "execution_count": null,
   "metadata": {},
   "outputs": [],
   "source": [
    "How do we define a tuple with single element?"
   ]
  },
  {
   "cell_type": "code",
   "execution_count": 40,
   "metadata": {},
   "outputs": [],
   "source": [
    "tuple1 = (2,)"
   ]
  },
  {
   "cell_type": "code",
   "execution_count": 41,
   "metadata": {},
   "outputs": [
    {
     "data": {
      "text/plain": [
       "tuple"
      ]
     },
     "execution_count": 41,
     "metadata": {},
     "output_type": "execute_result"
    }
   ],
   "source": [
    "type(tuple1)"
   ]
  },
  {
   "cell_type": "code",
   "execution_count": 42,
   "metadata": {},
   "outputs": [
    {
     "data": {
      "text/plain": [
       "int"
      ]
     },
     "execution_count": 42,
     "metadata": {},
     "output_type": "execute_result"
    }
   ],
   "source": [
    "tuple2 = (2)\n",
    "\n",
    "type(tuple2)\n",
    "\n",
    "# remember to use a comma while creating a tuple with single element"
   ]
  },
  {
   "cell_type": "code",
   "execution_count": 43,
   "metadata": {},
   "outputs": [],
   "source": [
    "## tuple unpacking\n",
    "\n",
    "t1,t2,t3 = (1,2,3)"
   ]
  },
  {
   "cell_type": "code",
   "execution_count": 44,
   "metadata": {},
   "outputs": [
    {
     "name": "stdout",
     "output_type": "stream",
     "text": [
      "1\n"
     ]
    }
   ],
   "source": [
    "print(t1)"
   ]
  },
  {
   "cell_type": "code",
   "execution_count": 45,
   "metadata": {},
   "outputs": [
    {
     "data": {
      "text/plain": [
       "2"
      ]
     },
     "execution_count": 45,
     "metadata": {},
     "output_type": "execute_result"
    }
   ],
   "source": [
    "t2"
   ]
  },
  {
   "cell_type": "code",
   "execution_count": 46,
   "metadata": {},
   "outputs": [
    {
     "data": {
      "text/plain": [
       "3"
      ]
     },
     "execution_count": 46,
     "metadata": {},
     "output_type": "execute_result"
    }
   ],
   "source": [
    "t3"
   ]
  },
  {
   "cell_type": "code",
   "execution_count": 47,
   "metadata": {},
   "outputs": [
    {
     "data": {
      "text/plain": [
       "list"
      ]
     },
     "execution_count": 47,
     "metadata": {},
     "output_type": "execute_result"
    }
   ],
   "source": [
    "list1 = [1]\n",
    "\n",
    "type(list1)"
   ]
  },
  {
   "cell_type": "code",
   "execution_count": null,
   "metadata": {},
   "outputs": [],
   "source": [
    "most of the functions of \"list\" that does not involve editing works on \"tuple\" as well.\n",
    "\n",
    "which involves editing: append,extend,insert\n",
    "    \n",
    "which does not involves editing: count,index"
   ]
  },
  {
   "cell_type": "code",
   "execution_count": 48,
   "metadata": {},
   "outputs": [
    {
     "data": {
      "text/plain": [
       "2"
      ]
     },
     "execution_count": 48,
     "metadata": {},
     "output_type": "execute_result"
    }
   ],
   "source": [
    "list1 = [100,200,100,1,2,2,2,2,3]\n",
    "\n",
    "list1.count(100)"
   ]
  },
  {
   "cell_type": "code",
   "execution_count": 49,
   "metadata": {},
   "outputs": [
    {
     "data": {
      "text/plain": [
       "2"
      ]
     },
     "execution_count": 49,
     "metadata": {},
     "output_type": "execute_result"
    }
   ],
   "source": [
    "tuple1 = (100,200,100,1,2,2,2,2,3)\n",
    "\n",
    "tuple1.count(100)"
   ]
  },
  {
   "cell_type": "code",
   "execution_count": 51,
   "metadata": {},
   "outputs": [
    {
     "data": {
      "text/plain": [
       "4"
      ]
     },
     "execution_count": 51,
     "metadata": {},
     "output_type": "execute_result"
    }
   ],
   "source": [
    "list1 = [100,200,100,1,2,2,2,2,3]\n",
    "\n",
    "list1.index(2)"
   ]
  },
  {
   "cell_type": "code",
   "execution_count": 52,
   "metadata": {},
   "outputs": [
    {
     "data": {
      "text/plain": [
       "4"
      ]
     },
     "execution_count": 52,
     "metadata": {},
     "output_type": "execute_result"
    }
   ],
   "source": [
    "tuple1 = (100,200,100,1,2,2,2,2,3)\n",
    "\n",
    "tuple1.index(2)"
   ]
  },
  {
   "cell_type": "code",
   "execution_count": 53,
   "metadata": {},
   "outputs": [
    {
     "name": "stdout",
     "output_type": "stream",
     "text": [
      "0  value is  python\n",
      "1  value is  java\n",
      "2  value is  c++\n",
      "3  value is  perl\n"
     ]
    }
   ],
   "source": [
    "## enumerate with tuple unpacking\n",
    "\n",
    "l = ['python','java','c++','perl']\n",
    "\n",
    "for index,value in enumerate(l):\n",
    "    print(index,' value is ',value)"
   ]
  },
  {
   "cell_type": "code",
   "execution_count": 54,
   "metadata": {},
   "outputs": [
    {
     "name": "stdout",
     "output_type": "stream",
     "text": [
      "(0, 'python') <class 'tuple'>\n",
      "(1, 'java') <class 'tuple'>\n",
      "(2, 'c++') <class 'tuple'>\n",
      "(3, 'perl') <class 'tuple'>\n"
     ]
    }
   ],
   "source": [
    "## enumerate without tuple unpacking\n",
    "\n",
    "l = ['python','java','c++','perl']\n",
    "\n",
    "for t in enumerate(l):\n",
    "    print(t,type(t))"
   ]
  },
  {
   "cell_type": "code",
   "execution_count": 55,
   "metadata": {},
   "outputs": [
    {
     "name": "stdout",
     "output_type": "stream",
     "text": [
      "1\n"
     ]
    }
   ],
   "source": [
    "l1,l2 = [1,2]\n",
    "\n",
    "print(l1)"
   ]
  },
  {
   "cell_type": "code",
   "execution_count": 56,
   "metadata": {},
   "outputs": [
    {
     "name": "stdout",
     "output_type": "stream",
     "text": [
      "2\n"
     ]
    }
   ],
   "source": [
    "print(l2)"
   ]
  },
  {
   "cell_type": "markdown",
   "metadata": {},
   "source": [
    "## Q.5) given two tuples , arrange their unique elements in sorted order in a list\n",
    "\n",
    "### Intuition: Tuples are immutable, create an empty list to store the unique elements and sort them.\n",
    "\n",
    "### Pseudocode:\n",
    "    1.)Create a new tuple by adding them.\n",
    "    2.)loop through them to append only value not already present\n",
    "    3.)finally use sorted method on the list."
   ]
  },
  {
   "cell_type": "code",
   "execution_count": null,
   "metadata": {},
   "outputs": [],
   "source": [
    "l1 = (10,45,21,47,10,74,85)\n",
    "l2 = (100,200,45,45,21,21,74,85)\n",
    "\n",
    "# l3 = [10,21,45,47,74,85,100,200]"
   ]
  },
  {
   "cell_type": "code",
   "execution_count": 57,
   "metadata": {},
   "outputs": [
    {
     "data": {
      "text/plain": [
       "[1, 2, 5, 6, 7, 8, 9, 11]"
      ]
     },
     "execution_count": 57,
     "metadata": {},
     "output_type": "execute_result"
    }
   ],
   "source": [
    "t1 = (1,2,5,6)\n",
    "t2 = (7,9,8,11)\n",
    "t3 = tuple(t1+t2)\n",
    "t4 = []\n",
    "for i in t3:\n",
    "    if i not in t4:\n",
    "        t4.append(i)\n",
    "t4.sort()\n",
    "t4"
   ]
  },
  {
   "cell_type": "code",
   "execution_count": 58,
   "metadata": {},
   "outputs": [
    {
     "name": "stdout",
     "output_type": "stream",
     "text": [
      "<class 'tuple'>\n"
     ]
    }
   ],
   "source": [
    "t1 = (1,2,5,6)\n",
    "t2 = (7,9,8,11)\n",
    "\n",
    "t3  = t1+t2\n",
    "\n",
    "print(type(t3))"
   ]
  },
  {
   "cell_type": "code",
   "execution_count": 61,
   "metadata": {},
   "outputs": [
    {
     "name": "stdout",
     "output_type": "stream",
     "text": [
      "<class 'tuple'>\n",
      "[1, 2, 3, 4, 5, 6, 7, 8, 9] <class 'list'>\n"
     ]
    }
   ],
   "source": [
    "l1 = (1,2,3,4,4,5,6,4,5)\n",
    "l2 = (8,9,7,4,5,6,1)\n",
    "l3 = l1 + l2\n",
    "print(type(l3))\n",
    "x = sorted(set(l3))\n",
    "print(x,type(x))\n",
    "\n",
    "## sorted method returns a list, even if a set was passed to it."
   ]
  },
  {
   "cell_type": "code",
   "execution_count": null,
   "metadata": {},
   "outputs": [],
   "source": [
    "# python is dynamically typed.\n",
    "# \"if it looks like a duck it is a duck!\"\n",
    "\n",
    "l3 = [1,2,3,4]\n",
    "\n",
    "l3 = 'python'\n",
    "\n",
    "l3 = 34\n",
    "\n",
    "\n",
    "l3 = {'python':3,'java':8}"
   ]
  },
  {
   "cell_type": "markdown",
   "metadata": {},
   "source": [
    "## DICT"
   ]
  },
  {
   "cell_type": "code",
   "execution_count": null,
   "metadata": {},
   "outputs": [],
   "source": [
    "=> mutable\n",
    "\n",
    "=> iterable\n",
    "\n",
    "=> unordered : we can not do indexing and slicing.\n",
    "\n",
    "Python 3.5 + dict are insertion ordered: when inserting key:value pairs in dict , they maintain the order in \n",
    "        which they were inserted.\n",
    "        \n",
    "        \n",
    "=> dict basically stores data in key: value pairs."
   ]
  },
  {
   "cell_type": "code",
   "execution_count": 64,
   "metadata": {},
   "outputs": [],
   "source": [
    "test_dict = {'python':3,'numpy':1,'pandas':1,'scikitlearn':2}"
   ]
  },
  {
   "cell_type": "code",
   "execution_count": 65,
   "metadata": {},
   "outputs": [
    {
     "data": {
      "text/plain": [
       "3"
      ]
     },
     "execution_count": 65,
     "metadata": {},
     "output_type": "execute_result"
    }
   ],
   "source": [
    "# how do we access a value using key?\n",
    "# key is python and value is 3\n",
    "test_dict['python']"
   ]
  },
  {
   "cell_type": "code",
   "execution_count": 66,
   "metadata": {},
   "outputs": [
    {
     "data": {
      "text/plain": [
       "1"
      ]
     },
     "execution_count": 66,
     "metadata": {},
     "output_type": "execute_result"
    }
   ],
   "source": [
    "test_dict['numpy']"
   ]
  },
  {
   "cell_type": "code",
   "execution_count": 68,
   "metadata": {},
   "outputs": [
    {
     "name": "stdout",
     "output_type": "stream",
     "text": [
      "{'python': 3, 'numpy': 1, 'pandas': 1, 'scikitlearn': 2, 'requests': 4}\n"
     ]
    }
   ],
   "source": [
    "# how to add a new key-value pair?\n",
    "\n",
    "test_dict['requests'] = 4\n",
    "\n",
    "print(test_dict)\n",
    "\n",
    "# Since dict are insertion ordered from python3.5+ requests will appear at the end."
   ]
  },
  {
   "cell_type": "code",
   "execution_count": 69,
   "metadata": {},
   "outputs": [
    {
     "name": "stdout",
     "output_type": "stream",
     "text": [
      "{'python': 3, 'numpy': 1, 'pandas': 1, 'scikitlearn': 2, 'requests': 10}\n"
     ]
    }
   ],
   "source": [
    "# how do we modify the existing value in dict?\n",
    "\n",
    "test_dict['requests'] = 10\n",
    "\n",
    "print(test_dict)"
   ]
  },
  {
   "cell_type": "code",
   "execution_count": null,
   "metadata": {},
   "outputs": [],
   "source": [
    "2 MOST IMP POINTS ABOUT DICT.\n",
    "\n",
    "=> ALL THE KEYS SHOULD BE UNIQUE.\n",
    "\n",
    "=> ALL THE KEYS SHOULD BE IMMUTABLE => INT,STR,FLOAT,TUPLE"
   ]
  },
  {
   "cell_type": "code",
   "execution_count": null,
   "metadata": {},
   "outputs": [],
   "source": [
    "# WHY KEEPING KEYS AS MUTABLE WILL BE A BAD IDEA?"
   ]
  },
  {
   "cell_type": "code",
   "execution_count": null,
   "metadata": {},
   "outputs": [],
   "source": [
    "hOMEWORK qUESTION:\n",
    "    store alphabets as 'keys' and their ascii values as \"values\" to those keys.\n",
    "    \n",
    "    Hint: use 'ord' and 'chr'\n",
    "        \n",
    "    Pseudocode:\n",
    "        1.) loop from a to z\n",
    "        2.) store them as keys and find their ascii to store them as values.\n",
    "        \n",
    "PLEASE PLZZZZ USE DICT TO SOLVE THIS."
   ]
  }
 ],
 "metadata": {
  "kernelspec": {
   "display_name": "Python 3",
   "language": "python",
   "name": "python3"
  },
  "language_info": {
   "codemirror_mode": {
    "name": "ipython",
    "version": 3
   },
   "file_extension": ".py",
   "mimetype": "text/x-python",
   "name": "python",
   "nbconvert_exporter": "python",
   "pygments_lexer": "ipython3",
   "version": "3.8.3"
  }
 },
 "nbformat": 4,
 "nbformat_minor": 4
}
