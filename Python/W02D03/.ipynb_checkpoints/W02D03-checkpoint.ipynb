{
 "cells": [
  {
   "cell_type": "code",
   "execution_count": null,
   "metadata": {},
   "outputs": [],
   "source": [
    "Data Types:\n",
    "    Numbers (int,float)\n",
    "    list []\n",
    "    tuple ()\n",
    "    set {key1,key2,key3}\n",
    "    dict {key1:value1,key2:value2,key3:value3}\n",
    "    bool True False\n",
    "    None\n",
    "    str"
   ]
  },
  {
   "cell_type": "code",
   "execution_count": null,
   "metadata": {},
   "outputs": [],
   "source": [
    "Iterables?\n",
    "\n",
    "which we can loop over, or acess them one by one.\n",
    "\n",
    "Str + collections datatypes are generally those which are iterables.\n",
    "\n",
    "we can use for loop,etc on them to access individual units."
   ]
  },
  {
   "cell_type": "code",
   "execution_count": 1,
   "metadata": {},
   "outputs": [
    {
     "name": "stdout",
     "output_type": "stream",
     "text": [
      "a\n",
      "p\n",
      "p\n",
      "l\n",
      "e\n"
     ]
    }
   ],
   "source": [
    "for i in 'apple':\n",
    "    print(i)"
   ]
  },
  {
   "cell_type": "code",
   "execution_count": 3,
   "metadata": {},
   "outputs": [],
   "source": [
    "# Mutable datatypes:\n",
    "    1) list\n",
    "    2) dict\n",
    "    3) set"
   ]
  },
  {
   "cell_type": "code",
   "execution_count": null,
   "metadata": {},
   "outputs": [],
   "source": [
    "# Immutable datatypes:\n",
    "    Strings\n",
    "    tuples\n",
    "    float\n",
    "    int\n",
    "    bool"
   ]
  },
  {
   "cell_type": "code",
   "execution_count": null,
   "metadata": {},
   "outputs": [],
   "source": [
    "test_dict = {'python':3,'java':8,'c++':14}"
   ]
  },
  {
   "cell_type": "code",
   "execution_count": 4,
   "metadata": {},
   "outputs": [
    {
     "ename": "TypeError",
     "evalue": "'str' object does not support item assignment",
     "output_type": "error",
     "traceback": [
      "\u001b[1;31m---------------------------------------------------------------------------\u001b[0m",
      "\u001b[1;31mTypeError\u001b[0m                                 Traceback (most recent call last)",
      "\u001b[1;32m<ipython-input-4-be6546fa7bf2>\u001b[0m in \u001b[0;36m<module>\u001b[1;34m\u001b[0m\n\u001b[0;32m      1\u001b[0m \u001b[0mtest_string\u001b[0m \u001b[1;33m=\u001b[0m \u001b[1;34m'apple'\u001b[0m\u001b[1;33m\u001b[0m\u001b[1;33m\u001b[0m\u001b[0m\n\u001b[0;32m      2\u001b[0m \u001b[1;33m\u001b[0m\u001b[0m\n\u001b[1;32m----> 3\u001b[1;33m \u001b[0mtest_string\u001b[0m\u001b[1;33m[\u001b[0m\u001b[1;36m0\u001b[0m\u001b[1;33m]\u001b[0m \u001b[1;33m=\u001b[0m \u001b[1;34m'b'\u001b[0m\u001b[1;33m\u001b[0m\u001b[1;33m\u001b[0m\u001b[0m\n\u001b[0m",
      "\u001b[1;31mTypeError\u001b[0m: 'str' object does not support item assignment"
     ]
    }
   ],
   "source": [
    "test_string = 'apple'\n",
    "\n",
    "test_string[0] = 'b'"
   ]
  },
  {
   "cell_type": "code",
   "execution_count": null,
   "metadata": {},
   "outputs": [],
   "source": [
    "// the above error occured because string are immutable."
   ]
  },
  {
   "cell_type": "code",
   "execution_count": null,
   "metadata": {},
   "outputs": [],
   "source": [
    "## Conditional Statements"
   ]
  },
  {
   "cell_type": "code",
   "execution_count": 2,
   "metadata": {},
   "outputs": [
    {
     "name": "stdout",
     "output_type": "stream",
     "text": [
      "3 is not greater than 5\n"
     ]
    }
   ],
   "source": [
    "a = 3\n",
    "if a>5:\n",
    "    print(a,\"is greater than 5\")\n",
    "else:\n",
    "    print(a,\"is not greater than 5\")"
   ]
  },
  {
   "cell_type": "code",
   "execution_count": 3,
   "metadata": {},
   "outputs": [
    {
     "data": {
      "text/plain": [
       "False"
      ]
     },
     "execution_count": 3,
     "metadata": {},
     "output_type": "execute_result"
    }
   ],
   "source": [
    "a>5\n",
    "\n",
    "What is the datatype which should come in the if statement??\n",
    "=> Boolean\n",
    "\n",
    "What are the different ways of "
   ]
  },
  {
   "cell_type": "code",
   "execution_count": 12,
   "metadata": {},
   "outputs": [
    {
     "name": "stdout",
     "output_type": "stream",
     "text": [
      "we are in true\n",
      "yeyeyeye we are in true!! maza aa gya\n"
     ]
    }
   ],
   "source": [
    "if True:\n",
    "    print(\"we are in true\") # statement 1\n",
    "    print(\"yeyeyeye we are in true!! maza aa gya\") # statement 2\n",
    "else:\n",
    "    print(\"we can only get here if the above boolean is false\") # statement 3\n",
    "    x = 'apple'  # statement 4"
   ]
  },
  {
   "cell_type": "code",
   "execution_count": 13,
   "metadata": {},
   "outputs": [
    {
     "name": "stdout",
     "output_type": "stream",
     "text": [
      "we can only get here if the above boolean is false\n"
     ]
    }
   ],
   "source": [
    "if False:\n",
    "    print(\"we are in true\") # statement 1\n",
    "    print(\"maza aa gya\") # statement 2\n",
    "    y = 'kiwi' # statement 3\n",
    "else:\n",
    "    print(\"we can only get here if the above boolean is false\") # staetment 4\n",
    "    m = 'mango' # statemnet x"
   ]
  },
  {
   "cell_type": "code",
   "execution_count": 14,
   "metadata": {},
   "outputs": [
    {
     "data": {
      "text/plain": [
       "False"
      ]
     },
     "execution_count": 14,
     "metadata": {},
     "output_type": "execute_result"
    }
   ],
   "source": [
    "a > 5"
   ]
  },
  {
   "cell_type": "code",
   "execution_count": null,
   "metadata": {},
   "outputs": [],
   "source": [
    "Since Comparison operators always gives us an Boolean value. We can use them in if-else."
   ]
  },
  {
   "cell_type": "code",
   "execution_count": null,
   "metadata": {},
   "outputs": [],
   "source": [
    "Scenario: You asked if you can date me?"
   ]
  },
  {
   "cell_type": "code",
   "execution_count": 16,
   "metadata": {},
   "outputs": [
    {
     "name": "stdout",
     "output_type": "stream",
     "text": [
      "heheheheh!! I was just kidding!!\n"
     ]
    }
   ],
   "source": [
    "reply = 'no'\n",
    "\n",
    "if reply == 'yes':\n",
    "    print(\"See you at LOC(LOVE OVER COFFEE) near your home\")\n",
    "else:\n",
    "    print(\"heheheheh!! I was just kidding!!\")"
   ]
  },
  {
   "cell_type": "code",
   "execution_count": null,
   "metadata": {},
   "outputs": [],
   "source": [
    "## elif \n",
    "What if the reply is 'maybe'"
   ]
  },
  {
   "cell_type": "code",
   "execution_count": 17,
   "metadata": {},
   "outputs": [
    {
     "name": "stdout",
     "output_type": "stream",
     "text": [
      "take your time and say ........ Yes!! :') :')\n"
     ]
    }
   ],
   "source": [
    "reply = 'maybe'\n",
    "\n",
    "if reply == 'yes':\n",
    "    print(\"See you at LOC(LOVE OVER COFFEE) near your home\")\n",
    "elif reply == 'maybe':\n",
    "    print(\"take your time and say ........ Yes!! :') :')\")\n",
    "else:\n",
    "    print(\"heheheheh!! I was just kidding!!\")"
   ]
  },
  {
   "cell_type": "code",
   "execution_count": null,
   "metadata": {},
   "outputs": [],
   "source": [
    "## we can actually have multiple replies."
   ]
  },
  {
   "cell_type": "code",
   "execution_count": 20,
   "metadata": {},
   "outputs": [
    {
     "name": "stdout",
     "output_type": "stream",
     "text": [
      "Cool!! let's go to this new movie together\n"
     ]
    }
   ],
   "source": [
    "reply = 'i like you as a friend'\n",
    "\n",
    "if reply == 'yes':\n",
    "    print(\"See you at LOC(LOVE OVER COFFEE) near your home\")\n",
    "elif reply == 'maybe':\n",
    "    print(\"take your time and say ........ Yes!! :') :')\")\n",
    "elif reply == 'i like you as a friend':\n",
    "    print(\"Cool!! let's go to this new movie together\")\n",
    "else:\n",
    "    print(\"heheheheh!! I was just kidding!!\")"
   ]
  },
  {
   "cell_type": "code",
   "execution_count": null,
   "metadata": {},
   "outputs": [],
   "source": [
    "## What if she/he replies back to what you said??\n",
    "\n",
    "## Nested if-else"
   ]
  },
  {
   "cell_type": "code",
   "execution_count": 31,
   "metadata": {},
   "outputs": [
    {
     "name": "stdout",
     "output_type": "stream",
     "text": [
      "You: Can we Date??\n",
      "X:   yes\n",
      "You: See you at LOC(LOVE OVER COFFEE) near your home\n",
      "X:   Yeah!! Sure (Heart Emojis)\n",
      "You: Kissing Emojis\n"
     ]
    }
   ],
   "source": [
    "print(\"You:\",\"Can we Date??\")\n",
    "reply = 'yes'\n",
    "print(\"X:  \",reply)\n",
    "if reply == 'yes':\n",
    "    print(\"You: See you at LOC(LOVE OVER COFFEE) near your home\")\n",
    "    reply2 = 'Yeah!! Sure (Heart Emojis)'\n",
    "    print(\"X:  \",reply2)\n",
    "    if reply2 == 'Yeah!! Sure (Heart Emojis)':   ## this is nested if inside the earlier if.\n",
    "        print(\"You: Kissing Emojis\")\n",
    "elif reply == 'maybe':\n",
    "    print(\"take your time and say ........ Yes!! :') :')\")\n",
    "elif reply == 'i like you as a friend':\n",
    "    print(\"Cool!! let's go to this new movie together\")\n",
    "else:\n",
    "    print(\"heheheheh!! I was just kidding!!\")"
   ]
  },
  {
   "cell_type": "code",
   "execution_count": null,
   "metadata": {},
   "outputs": [],
   "source": []
  }
 ],
 "metadata": {
  "kernelspec": {
   "display_name": "Python 3",
   "language": "python",
   "name": "python3"
  },
  "language_info": {
   "codemirror_mode": {
    "name": "ipython",
    "version": 3
   },
   "file_extension": ".py",
   "mimetype": "text/x-python",
   "name": "python",
   "nbconvert_exporter": "python",
   "pygments_lexer": "ipython3",
   "version": "3.8.3"
  }
 },
 "nbformat": 4,
 "nbformat_minor": 4
}
